{
 "cells": [
  {
   "cell_type": "markdown",
   "metadata": {},
   "source": [
    "Notes for Windows Python"
   ]
  },
  {
   "cell_type": "markdown",
   "metadata": {},
   "source": [
    "# INSTALLING THIRD-PARTY MODULES:"
   ]
  },
  {
   "cell_type": "markdown",
   "metadata": {},
   "source": [
    "## The pip Tool\n",
    "To install additional modules you will need to install an installer. Go to the terminal (Command Prompt) and type:\n",
    "```\n",
    "curl https://bootstrap.pypa.io/get-pip.py > get-pip.py\n",
    "```\n",
    "\n",
    "The executable file for the pip tool is called pip on Windows and pip3 on OS X and Linux. On Windows, you can find pip at C:\\Python34\\Scripts\\pip.exe. On OS X, it is in /Library/Frameworks/Python.framework/Versions/3.4/bin/pip3. On Linux, it is in /usr/bin/pip3.\n",
    "                                                                            \n",
    "While pip comes automatically installed with Python 3.4 on Windows and OS X, you must install it separately on Linux. To install pip3 on Ubuntu or Debian Linux, open a new Terminal window and enter \"sudo apt-get install python3-pip\". To install pip3 on Fedora Linux, enter \"sudo yum install python3 -pip\" into a Terminal window. You will need to enter the administrator pass- word for your computer in order to install this software."
   ]
  },
  {
   "cell_type": "markdown",
   "metadata": {},
   "source": [
    "## Installing Third-Party Modules\n",
    "You will need to install this\n",
    "```\n",
    "sudo pip install pyperclip\n",
    "```\n",
    "\n",
    "Note, the above might not install pip to the correct location. Install pip to the version of python you are using, for example:\n",
    "```\n",
    "sudo python3.7 -m pip install pyperclip\n",
    "```\n",
    "\n",
    "\n",
    "The pip tool is meant to be run from the command line: You pass it the command install followed by the name of the module you want to install. For example, on Windows you would enter pip install ModuleName, where ModuleName is the name of the module. On OS X and Linux, you’ll have to run pip3 with the sudo prefix to grant administrative privileges to install the module. You would need to type sudo pip3 install ModuleName.\n",
    "\n",
    "If you already have the module installed but would like to upgrade it to the latest version available on PyPI, run pip install –U ModuleName (or pip3 install –U ModuleName on OS X and Linux).\n",
    "\n",
    "After installing the module, you can test that it installed successfully by running import ModuleName in the interactive shell. If no error messages are displayed, you can assume the module was installed successfully.\n",
    "\n",
    "You can install all of the modules covered in this book by running the commands listed next. (Remember to replace pip with pip3 if you’re on OS X or Linux.)\n",
    "\n",
    "```\n",
    "pip install send2trash\n",
    "pip install requests\n",
    "pip install beautifulsoup4\n",
    "pip install selenium\n",
    "pip install openpyxl\n",
    "pip install PyPDF2\n",
    "pip install python-docx (install python-docx, not docx)\n",
    "pip install imapclient\n",
    "pip install pyzmail\n",
    "pip install twilio\n",
    "pip install pillow\n",
    "pip install pyobjc-core (on OS X only)\n",
    "pip install pyobjc (on OS X only)\n",
    "pip install python3-xlib (on Linux only)\n",
    "pip install pyautogui\n",
    "```\n",
    "NOTE For OS X users: The pyobjc module can take 20 minutes or longer to install, so don’t be alarmed if it takes a while. You should also install the pyobjc-core module first, which will reduce the overall installation time.\n",
    "\n",
    "pip install –U ModuleName (or pip3 install –U ModuleName on OS X and Linux).\n",
    "\n",
    "Run in your terminal (recommended):\n",
    "pip install --upgrade gensim\n",
    "           \n",
    "or, alternatively for conda environments:\n",
    "conda install -c conda-forge gensim\n"
   ]
  },
  {
   "cell_type": "markdown",
   "metadata": {},
   "source": [
    "Another solution (Used on Windows):\n",
    "There are a number of packages here:\n",
    "https://www.lfd.uci.edu/~gohlke/pythonlibs/#wordcloud\n",
    "Download this and put it into a folder within the directory being used. To download this then use a command that will access the file, e.g.:\n",
    "C:\\>\n",
    "python -m pip install C:\\Users\\tfraser\\wordcloud-1.6.0-cp37-cp37m-win_amd64.whl\n",
    "\n",
    "C:\\>\n",
    "python -m pip install C:\\Users\\tfraser\\Downloads\\nltk-3.4.5-py2.py3-none-any.whl\n",
    "\n",
    "python -m pip install C:\\Users\\tfraser\\Downloads\\\n",
    "python -m pip install C:\\Users\\tfraser\\Downloads\\gensim-3.8.1-cp38-cp38-win_amd64.whl\n",
    "python -m pip install C:\\Users\\tfraser\\Downloads\\gensim-3.8.1-cp37-cp37m-win_amd64.whl\n",
    "\n",
    "conda install C:\\Users\\tfraser\\Downloads\\gensim-3.8.1-cp36-cp36m-win_amd64.whl\n",
    "\n"
   ]
  },
  {
   "cell_type": "markdown",
   "metadata": {},
   "source": [
    "# RUNNING PROGRAMS\n",
    "If you have a program open in IDLE’s file editor, running it is a simple matter of pressing F5 or selecting the Run>Run Module menu item. This is an easy way to run programs while writing them, but opening IDLE to run your finished programs can be a burden. There are more convenient ways to execute Python scripts.\n",
    "\n",
    "Shebang Line\n",
    "The first line of all your Python programs should be a shebang line, which tells your computer that you want Python to execute this program. The she- bang line begins with #!, but the rest depends on your operating system.\n",
    "• On Windows, the shebang line is #! python3.\n",
    "• On OS X, the shebang line is #! /usr/bin/env python3.\n",
    "• On Linux, the shebang line is #! /usr/bin/python3.\n",
    "\n",
    "You will be able to run Python scripts from IDLE without the shebang line, but the line is needed to run them from the command line.\n",
    "\n",
    "## Running Python Programs on Windows\n",
    "On Windows, the Python 3.4 interpreter is located at C:\\Python34\\python.exe. Alternatively, the convenient py.exe program will read the shebang line at the top of the .py file’s source code and run the appropriate version of Python for that script. The py.exe program will make sure to run the Python pro- gram with the correct version of Python if multiple versions are installed on your computer.\n",
    "To make it convenient to run your Python program, create a .bat batch file for running the Python program with py.exe. To make a batch file, make a new text file containing a single line like the following:\n",
    "@py.exe C:\\path\\to\\your\\pythonScript.py %*\n",
    "Replace this path with the absolute path to your own program, and save this file with a .bat file extension (for example, pythonScript.bat). This batch file will keep you from having to type the full absolute path for the Python program every time you want to run it. I recommend you place all your batch and .py files in a single folder, such as C:\\MyPythonScripts or C:\\Users\\YourName\\PythonScripts.\n",
    "The C:\\MyPythonScripts folder should be added to the system path on Windows so that you can run the batch files in it from the Run dialog. To do this, modify the PATH environment variable. Click the Start button and type Edit environment variables for your account. This option should auto-complete after you’ve begun to type it. The Environment Variables window that appears will look like Figure B-1.\n",
    "\n",
    "From System variables, select the Path variable and click Edit. In the Value text field, append a semicolon, type C:\\MyPythonScripts, and then click OK. Now you can run any Python script in the C:\\MyPythonScripts folder by simply pressing WIN-R and entering the script’s name. Running pythonScript, for instance, will run pythonScript .bat, which in turn will save you from having to run the whole command py.exe C:\\ MyPythonScripts\\pythonScript.py from the Run dialog.\n",
    "\n",
    "## Running Python Programs on OS X and Linux\n",
    "On OS X, selecting Applications4Utilities4Terminal will bring up a Terminal window. A Terminal window is a way to enter commands on your computer using only text, rather than clicking through a graphic interface. To bring up the Terminal window on Ubuntu Linux, press the WIN (or SUPER) key to bring up Dash and type in Terminal.\n",
    "The Terminal window will begin in the home folder of your user account. If my username is asweigart, the home folder will be /Users/asweigart on OS X and /home/asweigart on Linux. The tilde (~) character is a shortcut for your home folder, so you can enter cd ~ to change to your home folder. You can also use the cd command to change the current working directory to any other directory. On both OS X and Linux, the pwd command will print the current working directory.\n",
    "To run your Python programs, save your .py file to your home folder. Then, change the .py file’s permissions to make it executable by running chmod +x pythonScript.py. File permissions are beyond the scope of this book, but you will need to run this command on your Python file if you want to run the program from the Terminal window. Once you do so, you will be able to run your script whenever you want by opening a Terminal window and entering ./pythonScript.py. The shebang line at the top of the script will tell the operating system where to locate the Python interpreter.\n",
    "\n"
   ]
  },
  {
   "cell_type": "markdown",
   "metadata": {},
   "source": [
    "# Resources\n",
    "\n",
    "Beginners guide: https://wiki.python.org/moin/BeginnersGuide/Overview\n",
    "Simple examples: https://wiki.python.org/moin/SimplePrograms\n",
    "\n",
    "https://wiki.python.org/moin/HowToEditPythonCode\n"
   ]
  },
  {
   "cell_type": "code",
   "execution_count": null,
   "metadata": {},
   "outputs": [],
   "source": []
  },
  {
   "cell_type": "code",
   "execution_count": 1,
   "metadata": {},
   "outputs": [
    {
     "name": "stdout",
     "output_type": "stream",
     "text": [
      "iteration 0 is john\n",
      "iteration 1 is pat\n",
      "iteration 2 is gary\n",
      "iteration 3 is michael\n"
     ]
    }
   ],
   "source": [
    "friends = ['john', 'pat', 'gary', 'michael']\n",
    "for i, name in enumerate(friends):\n",
    "    print (\"iteration {iteration} is {name}\".format(iteration=i, name=name))"
   ]
  },
  {
   "cell_type": "code",
   "execution_count": 2,
   "metadata": {},
   "outputs": [
    {
     "name": "stdout",
     "output_type": "stream",
     "text": [
      "This generation has 1 babies\n",
      "This generation has 2 babies\n",
      "This generation has 3 babies\n",
      "This generation has 5 babies\n",
      "This generation has 8 babies\n",
      "This generation has 13 babies\n",
      "This generation has 21 babies\n",
      "This generation has 34 babies\n",
      "This generation has 55 babies\n",
      "This generation has 89 babies\n"
     ]
    }
   ],
   "source": [
    "parents, babies = (1, 1)\n",
    "while babies < 100:\n",
    "    print ('This generation has {0} babies'.format(babies))\n",
    "    parents, babies = (babies, parents + babies)"
   ]
  },
  {
   "cell_type": "code",
   "execution_count": 3,
   "metadata": {},
   "outputs": [
    {
     "name": "stdout",
     "output_type": "stream",
     "text": [
      "Hello Jack\n",
      "Hello Jill\n",
      "Hello Bob\n"
     ]
    }
   ],
   "source": [
    "def greet(name):\n",
    "    print ('Hello', name)\n",
    "\n",
    "greet('Jack')\n",
    "greet('Jill')\n",
    "greet('Bob')"
   ]
  },
  {
   "cell_type": "code",
   "execution_count": 4,
   "metadata": {},
   "outputs": [
    {
     "name": "stdout",
     "output_type": "stream",
     "text": [
      "555-1212 is a valid US local phone number\n",
      "ILL-EGAL rejected\n"
     ]
    }
   ],
   "source": [
    "import re\n",
    "for test_string in ['555-1212', 'ILL-EGAL']:\n",
    "    if re.match(r'^\\d{3}-\\d{4}$', test_string):\n",
    "        print (test_string, 'is a valid US local phone number')\n",
    "    else:\n",
    "        print (test_string, 'rejected')"
   ]
  },
  {
   "cell_type": "code",
   "execution_count": 5,
   "metadata": {},
   "outputs": [
    {
     "name": "stdout",
     "output_type": "stream",
     "text": [
      "I owe the grocer $3.40\n"
     ]
    }
   ],
   "source": [
    "prices = {'apple': 0.40, 'banana': 0.50}\n",
    "my_purchase = {\n",
    "    'apple': 1,\n",
    "    'banana': 6}\n",
    "grocery_bill = sum(prices[fruit] * my_purchase[fruit]\n",
    "                   for fruit in my_purchase)\n",
    "print ('I owe the grocer $%.2f' % grocery_bill)"
   ]
  },
  {
   "cell_type": "code",
   "execution_count": 10,
   "metadata": {},
   "outputs": [
    {
     "name": "stdout",
     "output_type": "stream",
     "text": [
      "I owe the grocer $3.40\n"
     ]
    }
   ],
   "source": [
    "# you can have more fruits in prices than in my_purchase\n",
    "# You can also have a different order in the dictionary\n",
    "prices = {'banana': 0.50, 'orange': 0.60, 'apple': 0.40}\n",
    "my_purchase = {\n",
    "    'apple': 1,\n",
    "    'banana': 6}\n",
    "grocery_bill = sum(prices[fruit] * my_purchase[fruit]\n",
    "                   for fruit in my_purchase)\n",
    "print ('I owe the grocer $%.2f' % grocery_bill)"
   ]
  },
  {
   "cell_type": "code",
   "execution_count": 11,
   "metadata": {},
   "outputs": [
    {
     "ename": "KeyError",
     "evalue": "'soccer'",
     "output_type": "error",
     "traceback": [
      "\u001b[1;31m---------------------------------------------------------------------------\u001b[0m",
      "\u001b[1;31mKeyError\u001b[0m                                  Traceback (most recent call last)",
      "\u001b[1;32mc:\\Users\\tyewf\\Documents\\GitHub\\notes_on_python\\00_Getting started.ipynb Cell 14\u001b[0m line \u001b[0;36m7\n\u001b[0;32m      <a href='vscode-notebook-cell:/c%3A/Users/tyewf/Documents/GitHub/notes_on_python/00_Getting%20started.ipynb#X16sZmlsZQ%3D%3D?line=1'>2</a>\u001b[0m prices \u001b[39m=\u001b[39m {\u001b[39m'\u001b[39m\u001b[39mapple\u001b[39m\u001b[39m'\u001b[39m: \u001b[39m0.40\u001b[39m, \u001b[39m'\u001b[39m\u001b[39mbanana\u001b[39m\u001b[39m'\u001b[39m: \u001b[39m0.50\u001b[39m, \u001b[39m'\u001b[39m\u001b[39morange\u001b[39m\u001b[39m'\u001b[39m: \u001b[39m0.60\u001b[39m}\n\u001b[0;32m      <a href='vscode-notebook-cell:/c%3A/Users/tyewf/Documents/GitHub/notes_on_python/00_Getting%20started.ipynb#X16sZmlsZQ%3D%3D?line=2'>3</a>\u001b[0m my_purchase \u001b[39m=\u001b[39m {\n\u001b[0;32m      <a href='vscode-notebook-cell:/c%3A/Users/tyewf/Documents/GitHub/notes_on_python/00_Getting%20started.ipynb#X16sZmlsZQ%3D%3D?line=3'>4</a>\u001b[0m     \u001b[39m'\u001b[39m\u001b[39mapple\u001b[39m\u001b[39m'\u001b[39m: \u001b[39m1\u001b[39m,\n\u001b[0;32m      <a href='vscode-notebook-cell:/c%3A/Users/tyewf/Documents/GitHub/notes_on_python/00_Getting%20started.ipynb#X16sZmlsZQ%3D%3D?line=4'>5</a>\u001b[0m     \u001b[39m'\u001b[39m\u001b[39mbanana\u001b[39m\u001b[39m'\u001b[39m: \u001b[39m6\u001b[39m,\n\u001b[0;32m      <a href='vscode-notebook-cell:/c%3A/Users/tyewf/Documents/GitHub/notes_on_python/00_Getting%20started.ipynb#X16sZmlsZQ%3D%3D?line=5'>6</a>\u001b[0m     \u001b[39m'\u001b[39m\u001b[39msoccer\u001b[39m\u001b[39m'\u001b[39m: \u001b[39m2\u001b[39m}\n\u001b[1;32m----> <a href='vscode-notebook-cell:/c%3A/Users/tyewf/Documents/GitHub/notes_on_python/00_Getting%20started.ipynb#X16sZmlsZQ%3D%3D?line=6'>7</a>\u001b[0m grocery_bill \u001b[39m=\u001b[39m \u001b[39msum\u001b[39;49m(prices[fruit] \u001b[39m*\u001b[39;49m my_purchase[fruit]\n\u001b[0;32m      <a href='vscode-notebook-cell:/c%3A/Users/tyewf/Documents/GitHub/notes_on_python/00_Getting%20started.ipynb#X16sZmlsZQ%3D%3D?line=7'>8</a>\u001b[0m                    \u001b[39mfor\u001b[39;49;00m fruit \u001b[39min\u001b[39;49;00m my_purchase)\n\u001b[0;32m      <a href='vscode-notebook-cell:/c%3A/Users/tyewf/Documents/GitHub/notes_on_python/00_Getting%20started.ipynb#X16sZmlsZQ%3D%3D?line=8'>9</a>\u001b[0m \u001b[39mprint\u001b[39m (\u001b[39m'\u001b[39m\u001b[39mI owe the grocer $\u001b[39m\u001b[39m%.2f\u001b[39;00m\u001b[39m'\u001b[39m \u001b[39m%\u001b[39m grocery_bill)\n",
      "\u001b[1;32mc:\\Users\\tyewf\\Documents\\GitHub\\notes_on_python\\00_Getting started.ipynb Cell 14\u001b[0m line \u001b[0;36m7\n\u001b[0;32m      <a href='vscode-notebook-cell:/c%3A/Users/tyewf/Documents/GitHub/notes_on_python/00_Getting%20started.ipynb#X16sZmlsZQ%3D%3D?line=1'>2</a>\u001b[0m prices \u001b[39m=\u001b[39m {\u001b[39m'\u001b[39m\u001b[39mapple\u001b[39m\u001b[39m'\u001b[39m: \u001b[39m0.40\u001b[39m, \u001b[39m'\u001b[39m\u001b[39mbanana\u001b[39m\u001b[39m'\u001b[39m: \u001b[39m0.50\u001b[39m, \u001b[39m'\u001b[39m\u001b[39morange\u001b[39m\u001b[39m'\u001b[39m: \u001b[39m0.60\u001b[39m}\n\u001b[0;32m      <a href='vscode-notebook-cell:/c%3A/Users/tyewf/Documents/GitHub/notes_on_python/00_Getting%20started.ipynb#X16sZmlsZQ%3D%3D?line=2'>3</a>\u001b[0m my_purchase \u001b[39m=\u001b[39m {\n\u001b[0;32m      <a href='vscode-notebook-cell:/c%3A/Users/tyewf/Documents/GitHub/notes_on_python/00_Getting%20started.ipynb#X16sZmlsZQ%3D%3D?line=3'>4</a>\u001b[0m     \u001b[39m'\u001b[39m\u001b[39mapple\u001b[39m\u001b[39m'\u001b[39m: \u001b[39m1\u001b[39m,\n\u001b[0;32m      <a href='vscode-notebook-cell:/c%3A/Users/tyewf/Documents/GitHub/notes_on_python/00_Getting%20started.ipynb#X16sZmlsZQ%3D%3D?line=4'>5</a>\u001b[0m     \u001b[39m'\u001b[39m\u001b[39mbanana\u001b[39m\u001b[39m'\u001b[39m: \u001b[39m6\u001b[39m,\n\u001b[0;32m      <a href='vscode-notebook-cell:/c%3A/Users/tyewf/Documents/GitHub/notes_on_python/00_Getting%20started.ipynb#X16sZmlsZQ%3D%3D?line=5'>6</a>\u001b[0m     \u001b[39m'\u001b[39m\u001b[39msoccer\u001b[39m\u001b[39m'\u001b[39m: \u001b[39m2\u001b[39m}\n\u001b[1;32m----> <a href='vscode-notebook-cell:/c%3A/Users/tyewf/Documents/GitHub/notes_on_python/00_Getting%20started.ipynb#X16sZmlsZQ%3D%3D?line=6'>7</a>\u001b[0m grocery_bill \u001b[39m=\u001b[39m \u001b[39msum\u001b[39m(prices[fruit] \u001b[39m*\u001b[39m my_purchase[fruit]\n\u001b[0;32m      <a href='vscode-notebook-cell:/c%3A/Users/tyewf/Documents/GitHub/notes_on_python/00_Getting%20started.ipynb#X16sZmlsZQ%3D%3D?line=7'>8</a>\u001b[0m                    \u001b[39mfor\u001b[39;00m fruit \u001b[39min\u001b[39;00m my_purchase)\n\u001b[0;32m      <a href='vscode-notebook-cell:/c%3A/Users/tyewf/Documents/GitHub/notes_on_python/00_Getting%20started.ipynb#X16sZmlsZQ%3D%3D?line=8'>9</a>\u001b[0m \u001b[39mprint\u001b[39m (\u001b[39m'\u001b[39m\u001b[39mI owe the grocer $\u001b[39m\u001b[39m%.2f\u001b[39;00m\u001b[39m'\u001b[39m \u001b[39m%\u001b[39m grocery_bill)\n",
      "\u001b[1;31mKeyError\u001b[0m: 'soccer'"
     ]
    }
   ],
   "source": [
    "# If you have more fruits in my_purchase than in prices, you get an error\n",
    "prices = {'apple': 0.40, 'banana': 0.50, 'orange': 0.60}\n",
    "my_purchase = {\n",
    "    'apple': 1,\n",
    "    'banana': 6,\n",
    "    'soccer': 2}\n",
    "grocery_bill = sum(prices[fruit] * my_purchase[fruit]\n",
    "                   for fruit in my_purchase)\n",
    "print ('I owe the grocer $%.2f' % grocery_bill)"
   ]
  },
  {
   "cell_type": "code",
   "execution_count": 12,
   "metadata": {},
   "outputs": [
    {
     "name": "stdout",
     "output_type": "stream",
     "text": [
      "Please supply integer arguments\n"
     ]
    }
   ],
   "source": [
    "# This program adds up integers that have been passed as arguments in the command line\n",
    "import sys\n",
    "try:\n",
    "    total = sum(int(arg) for arg in sys.argv[1:])\n",
    "    print ('sum =', total)\n",
    "except ValueError:\n",
    "    print ('Please supply integer arguments')"
   ]
  },
  {
   "cell_type": "code",
   "execution_count": 20,
   "metadata": {},
   "outputs": [
    {
     "name": "stdout",
     "output_type": "stream",
     "text": [
      "The time is str(time_now)\n",
      "The hour is 20\n",
      "Unknown, AFK or sleeping!\n"
     ]
    }
   ],
   "source": [
    "from time import localtime\n",
    "\n",
    "activities = {8: 'Sleeping',\n",
    "              9: 'Commuting',\n",
    "              17: 'Working',\n",
    "              18: 'Commuting',\n",
    "              20: 'Eating',\n",
    "              22: 'Resting' }\n",
    "\n",
    "time_now = localtime()\n",
    "hour = time_now.tm_hour\n",
    "\n",
    "for activity_time in sorted(activities.keys()):\n",
    "    if hour < activity_time:\n",
    "        print (activities[activity_time])\n",
    "        break\n",
    "else:\n",
    "    print ('Unknown, AFK or sleeping!')"
   ]
  },
  {
   "cell_type": "code",
   "execution_count": 21,
   "metadata": {},
   "outputs": [
    {
     "name": "stdout",
     "output_type": "stream",
     "text": [
      "\n",
      "9 bottles of beer on the wall,\n",
      "9 bottles of beer,\n",
      "take one down, pass it around,\n",
      "8 bottles of beer on the wall!\n",
      "\n",
      "\n",
      "8 bottles of beer on the wall,\n",
      "8 bottles of beer,\n",
      "take one down, pass it around,\n",
      "7 bottles of beer on the wall!\n",
      "\n",
      "\n",
      "7 bottles of beer on the wall,\n",
      "7 bottles of beer,\n",
      "take one down, pass it around,\n",
      "6 bottles of beer on the wall!\n",
      "\n",
      "\n",
      "6 bottles of beer on the wall,\n",
      "6 bottles of beer,\n",
      "take one down, pass it around,\n",
      "5 bottles of beer on the wall!\n",
      "\n",
      "\n",
      "5 bottles of beer on the wall,\n",
      "5 bottles of beer,\n",
      "take one down, pass it around,\n",
      "4 bottles of beer on the wall!\n",
      "\n",
      "\n",
      "4 bottles of beer on the wall,\n",
      "4 bottles of beer,\n",
      "take one down, pass it around,\n",
      "3 bottles of beer on the wall!\n",
      "\n",
      "\n",
      "3 bottles of beer on the wall,\n",
      "3 bottles of beer,\n",
      "take one down, pass it around,\n",
      "2 bottles of beer on the wall!\n",
      "\n",
      "\n",
      "2 bottles of beer on the wall,\n",
      "2 bottles of beer,\n",
      "take one down, pass it around,\n",
      "1 bottles of beer on the wall!\n",
      "\n"
     ]
    }
   ],
   "source": [
    "REFRAIN = '''\n",
    "%d bottles of beer on the wall,\n",
    "%d bottles of beer,\n",
    "take one down, pass it around,\n",
    "%d bottles of beer on the wall!\n",
    "'''\n",
    "bottles_of_beer = 9\n",
    "while bottles_of_beer > 1:\n",
    "    print (REFRAIN % (bottles_of_beer, bottles_of_beer,\n",
    "        bottles_of_beer - 1))\n",
    "    bottles_of_beer -= 1"
   ]
  },
  {
   "cell_type": "code",
   "execution_count": 23,
   "metadata": {},
   "outputs": [],
   "source": [
    "import unittest\n",
    "def median(pool):\n",
    "    copy = sorted(pool)\n",
    "    size = len(copy)\n",
    "    if size % 2 == 1:\n",
    "        return copy[int((size - 1) / 2)]\n",
    "    else:\n",
    "        return (copy[int(size/2 - 1)] + copy[int(size/2)]) / 2\n",
    "class TestMedian(unittest.TestCase):\n",
    "    def testMedian(self):\n",
    "        self.assertEqual(median([2, 9, 9, 7, 9, 2, 4, 5, 8]), 7)\n",
    "# if __name__ == '__main__':\n",
    "#     unittest.main()"
   ]
  },
  {
   "cell_type": "code",
   "execution_count": 29,
   "metadata": {},
   "outputs": [],
   "source": [
    "val = TestMedian().testMedian()\n",
    "# TestMedian.testMedian()\n",
    "val\n",
    "\n",
    "# how is the above suposed to work?"
   ]
  },
  {
   "cell_type": "code",
   "execution_count": 34,
   "metadata": {},
   "outputs": [
    {
     "data": {
      "text/plain": [
       "7"
      ]
     },
     "execution_count": 34,
     "metadata": {},
     "output_type": "execute_result"
    }
   ],
   "source": [
    "median([2, 9, 9, 7, 9, 2, 4, 5, 8])"
   ]
  },
  {
   "cell_type": "code",
   "execution_count": 35,
   "metadata": {},
   "outputs": [
    {
     "name": "stdout",
     "output_type": "stream",
     "text": [
      "**********************************************************************\n",
      "File \"__main__\", line 3, in __main__.median\n",
      "Failed example:\n",
      "    median([2, 9, 9, 7, 9, 2, 4, 5, 8])\n",
      "Expected:\n",
      "    6 #change to 7 in order to pass the test\n",
      "Got:\n",
      "    7\n",
      "**********************************************************************\n",
      "1 items had failures:\n",
      "   1 of   1 in __main__.median\n",
      "***Test Failed*** 1 failures.\n"
     ]
    }
   ],
   "source": [
    "def median(pool):\n",
    "    '''Statistical median to demonstrate doctest.\n",
    "    >>> median([2, 9, 9, 7, 9, 2, 4, 5, 8])\n",
    "    6 #change to 7 in order to pass the test\n",
    "    '''\n",
    "    copy = sorted(pool)\n",
    "    size = len(copy)\n",
    "    if size % 2 == 1:\n",
    "        return copy[int((size - 1) / 2)]\n",
    "    else:\n",
    "        return (copy[int(size/2 - 1)] + copy[int(size/2)]) / 2\n",
    "if __name__ == '__main__':\n",
    "    import doctest\n",
    "    doctest.testmod()"
   ]
  },
  {
   "cell_type": "code",
   "execution_count": 36,
   "metadata": {},
   "outputs": [
    {
     "name": "stdout",
     "output_type": "stream",
     "text": [
      "This is the first paragraph.\n",
      "This is the second.\n"
     ]
    }
   ],
   "source": [
    "from itertools import groupby\n",
    "lines = '''\n",
    "This is the\n",
    "first paragraph.\n",
    "\n",
    "This is the second.\n",
    "'''.splitlines()\n",
    "# Use itertools.groupby and bool to return groups of\n",
    "# consecutive lines that either have content or don't.\n",
    "for has_chars, frags in groupby(lines, bool):\n",
    "    if has_chars:\n",
    "        print (' '.join(frags))\n",
    "# PRINTS:\n",
    "# This is the first paragraph.\n",
    "# This is the second."
   ]
  },
  {
   "cell_type": "code",
   "execution_count": 37,
   "metadata": {},
   "outputs": [
    {
     "name": "stdout",
     "output_type": "stream",
     "text": [
      "Google, Inc. is up (0.09)\n",
      "Yahoo! Inc. is up (1.22)\n",
      "CNET Networks, Inc. is down (-1.49)\n"
     ]
    }
   ],
   "source": [
    "import csv\n",
    "\n",
    "# need to define cmp function in Python 3\n",
    "def cmp(a, b):\n",
    "    return (a > b) - (a < b)\n",
    "\n",
    "# write stocks data as comma-separated values\n",
    "with open('stocks.csv', 'w', newline='') as stocksFileW:\n",
    "    writer = csv.writer(stocksFileW)\n",
    "    writer.writerows([\n",
    "        ['GOOG', 'Google, Inc.', 505.24, 0.47, 0.09],\n",
    "        ['YHOO', 'Yahoo! Inc.', 27.38, 0.33, 1.22],\n",
    "        ['CNET', 'CNET Networks, Inc.', 8.62, -0.13, -1.4901]\n",
    "    ])\n",
    "\n",
    "# read stocks data, print status messages\n",
    "with open('stocks.csv', 'r') as stocksFile:\n",
    "    stocks = csv.reader(stocksFile)\n",
    "\n",
    "    status_labels = {-1: 'down', 0: 'unchanged', 1: 'up'}\n",
    "    for ticker, name, price, change, pct in stocks:\n",
    "        status = status_labels[cmp(float(change), 0.0)]\n",
    "        print ('%s is %s (%.2f)' % (name, status, float(pct)))"
   ]
  },
  {
   "cell_type": "code",
   "execution_count": 39,
   "metadata": {},
   "outputs": [
    {
     "ename": "AttributeError",
     "evalue": "'xml.etree.ElementTree.Element' object has no attribute 'getiterator'",
     "output_type": "error",
     "traceback": [
      "\u001b[1;31m---------------------------------------------------------------------------\u001b[0m",
      "\u001b[1;31mAttributeError\u001b[0m                            Traceback (most recent call last)",
      "\u001b[1;32mc:\\Users\\tyewf\\Documents\\GitHub\\notes_on_python\\00_Getting started.ipynb Cell 24\u001b[0m line \u001b[0;36m1\n\u001b[0;32m     <a href='vscode-notebook-cell:/c%3A/Users/tyewf/Documents/GitHub/notes_on_python/00_Getting%20started.ipynb#X32sZmlsZQ%3D%3D?line=12'>13</a>\u001b[0m \u001b[39m# For invalid HTML use http://effbot.org/zone/element-soup.htm\u001b[39;00m\n\u001b[0;32m     <a href='vscode-notebook-cell:/c%3A/Users/tyewf/Documents/GitHub/notes_on_python/00_Getting%20started.ipynb#X32sZmlsZQ%3D%3D?line=13'>14</a>\u001b[0m \u001b[39m# import ElementSoup, StringIO\u001b[39;00m\n\u001b[0;32m     <a href='vscode-notebook-cell:/c%3A/Users/tyewf/Documents/GitHub/notes_on_python/00_Getting%20started.ipynb#X32sZmlsZQ%3D%3D?line=14'>15</a>\u001b[0m \u001b[39m# tree = ElementSoup.parse(StringIO.StringIO(dinner_recipe))\u001b[39;00m\n\u001b[0;32m     <a href='vscode-notebook-cell:/c%3A/Users/tyewf/Documents/GitHub/notes_on_python/00_Getting%20started.ipynb#X32sZmlsZQ%3D%3D?line=16'>17</a>\u001b[0m pantry \u001b[39m=\u001b[39m \u001b[39mset\u001b[39m([\u001b[39m'\u001b[39m\u001b[39molive oil\u001b[39m\u001b[39m'\u001b[39m, \u001b[39m'\u001b[39m\u001b[39mpesto\u001b[39m\u001b[39m'\u001b[39m])\n\u001b[1;32m---> <a href='vscode-notebook-cell:/c%3A/Users/tyewf/Documents/GitHub/notes_on_python/00_Getting%20started.ipynb#X32sZmlsZQ%3D%3D?line=17'>18</a>\u001b[0m \u001b[39mfor\u001b[39;00m ingredient \u001b[39min\u001b[39;00m tree\u001b[39m.\u001b[39;49mgetiterator(\u001b[39m'\u001b[39m\u001b[39mtr\u001b[39m\u001b[39m'\u001b[39m):\n\u001b[0;32m     <a href='vscode-notebook-cell:/c%3A/Users/tyewf/Documents/GitHub/notes_on_python/00_Getting%20started.ipynb#X32sZmlsZQ%3D%3D?line=18'>19</a>\u001b[0m     amt, unit, item \u001b[39m=\u001b[39m ingredient\n\u001b[0;32m     <a href='vscode-notebook-cell:/c%3A/Users/tyewf/Documents/GitHub/notes_on_python/00_Getting%20started.ipynb#X32sZmlsZQ%3D%3D?line=19'>20</a>\u001b[0m     \u001b[39mif\u001b[39;00m item\u001b[39m.\u001b[39mtag \u001b[39m==\u001b[39m \u001b[39m\"\u001b[39m\u001b[39mtd\u001b[39m\u001b[39m\"\u001b[39m \u001b[39mand\u001b[39;00m item\u001b[39m.\u001b[39mtext \u001b[39mnot\u001b[39;00m \u001b[39min\u001b[39;00m pantry:\n",
      "\u001b[1;31mAttributeError\u001b[0m: 'xml.etree.ElementTree.Element' object has no attribute 'getiterator'"
     ]
    }
   ],
   "source": [
    "dinner_recipe = '''<html><body><table>\n",
    "<tr><th>amt</th><th>unit</th><th>item</th></tr>\n",
    "<tr><td>24</td><td>slices</td><td>baguette</td></tr>\n",
    "<tr><td>2+</td><td>tbsp</td><td>olive oil</td></tr>\n",
    "<tr><td>1</td><td>cup</td><td>tomatoes</td></tr>\n",
    "<tr><td>1</td><td>jar</td><td>pesto</td></tr>\n",
    "</table></body></html>'''\n",
    "\n",
    "# From http://effbot.org/zone/element-index.htm\n",
    "import xml.etree.ElementTree as etree\n",
    "tree = etree.fromstring(dinner_recipe)\n",
    "\n",
    "# For invalid HTML use http://effbot.org/zone/element-soup.htm\n",
    "# import ElementSoup, StringIO\n",
    "# tree = ElementSoup.parse(StringIO.StringIO(dinner_recipe))\n",
    "\n",
    "pantry = set(['olive oil', 'pesto'])\n",
    "for ingredient in tree.getiterator('tr'):\n",
    "    amt, unit, item = ingredient\n",
    "    if item.tag == \"td\" and item.text not in pantry:\n",
    "        print (\"%s: %s %s\" % (item.text, amt.text, unit.text))"
   ]
  }
 ],
 "metadata": {
  "kernelspec": {
   "display_name": "Python 3",
   "language": "python",
   "name": "python3"
  },
  "language_info": {
   "codemirror_mode": {
    "name": "ipython",
    "version": 3
   },
   "file_extension": ".py",
   "mimetype": "text/x-python",
   "name": "python",
   "nbconvert_exporter": "python",
   "pygments_lexer": "ipython3",
   "version": "3.10.11"
  }
 },
 "nbformat": 4,
 "nbformat_minor": 2
}
