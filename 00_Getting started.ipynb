{
 "cells": [
  {
   "cell_type": "markdown",
   "metadata": {},
   "source": [
    "Notes for Windows Python"
   ]
  },
  {
   "cell_type": "markdown",
   "metadata": {},
   "source": [
    "# INSTALLING THIRD-PARTY MODULES:"
   ]
  },
  {
   "cell_type": "markdown",
   "metadata": {},
   "source": [
    "## The pip Tool\n",
    "To install additional modules you will need to install an installer. Go to the terminal (Command Prompt) and type:\n",
    "```\n",
    "curl https://bootstrap.pypa.io/get-pip.py > get-pip.py\n",
    "```\n",
    "\n",
    "The executable file for the pip tool is called pip on Windows and pip3 on OS X and Linux. On Windows, you can find pip at C:\\Python34\\Scripts\\pip.exe. On OS X, it is in /Library/Frameworks/Python.framework/Versions/3.4/bin/pip3. On Linux, it is in /usr/bin/pip3.\n",
    "                                                                            \n",
    "While pip comes automatically installed with Python 3.4 on Windows and OS X, you must install it separately on Linux. To install pip3 on Ubuntu or Debian Linux, open a new Terminal window and enter \"sudo apt-get install python3-pip\". To install pip3 on Fedora Linux, enter \"sudo yum install python3 -pip\" into a Terminal window. You will need to enter the administrator pass- word for your computer in order to install this software."
   ]
  },
  {
   "cell_type": "markdown",
   "metadata": {},
   "source": [
    "## Installing Third-Party Modules\n",
    "You will need to install this\n",
    "```\n",
    "sudo pip install pyperclip\n",
    "```\n",
    "\n",
    "Note, the above might not install pip to the correct location. Install pip to the version of python you are using, for example:\n",
    "```\n",
    "sudo python3.7 -m pip install pyperclip\n",
    "```\n",
    "\n",
    "\n",
    "The pip tool is meant to be run from the command line: You pass it the command install followed by the name of the module you want to install. For example, on Windows you would enter pip install ModuleName, where ModuleName is the name of the module. On OS X and Linux, you’ll have to run pip3 with the sudo prefix to grant administrative privileges to install the module. You would need to type sudo pip3 install ModuleName.\n",
    "\n",
    "If you already have the module installed but would like to upgrade it to the latest version available on PyPI, run pip install –U ModuleName (or pip3 install –U ModuleName on OS X and Linux).\n",
    "\n",
    "After installing the module, you can test that it installed successfully by running import ModuleName in the interactive shell. If no error messages are displayed, you can assume the module was installed successfully.\n",
    "\n",
    "You can install all of the modules covered in this book by running the commands listed next. (Remember to replace pip with pip3 if you’re on OS X or Linux.)\n",
    "\n",
    "```\n",
    "pip install send2trash\n",
    "pip install requests\n",
    "pip install beautifulsoup4\n",
    "pip install selenium\n",
    "pip install openpyxl\n",
    "pip install PyPDF2\n",
    "pip install python-docx (install python-docx, not docx)\n",
    "pip install imapclient\n",
    "pip install pyzmail\n",
    "pip install twilio\n",
    "pip install pillow\n",
    "pip install pyobjc-core (on OS X only)\n",
    "pip install pyobjc (on OS X only)\n",
    "pip install python3-xlib (on Linux only)\n",
    "pip install pyautogui\n",
    "```\n",
    "NOTE For OS X users: The pyobjc module can take 20 minutes or longer to install, so don’t be alarmed if it takes a while. You should also install the pyobjc-core module first, which will reduce the overall installation time.\n",
    "\n",
    "pip install –U ModuleName (or pip3 install –U ModuleName on OS X and Linux).\n",
    "\n",
    "Run in your terminal (recommended):\n",
    "pip install --upgrade gensim\n",
    "           \n",
    "or, alternatively for conda environments:\n",
    "conda install -c conda-forge gensim\n"
   ]
  },
  {
   "cell_type": "markdown",
   "metadata": {},
   "source": [
    "Another solution (Used on Windows):\n",
    "There are a number of packages here:\n",
    "https://www.lfd.uci.edu/~gohlke/pythonlibs/#wordcloud\n",
    "Download this and put it into a folder within the directory being used. To download this then use a command that will access the file, e.g.:\n",
    "C:\\>\n",
    "python -m pip install C:\\Users\\tfraser\\wordcloud-1.6.0-cp37-cp37m-win_amd64.whl\n",
    "\n",
    "C:\\>\n",
    "python -m pip install C:\\Users\\tfraser\\Downloads\\nltk-3.4.5-py2.py3-none-any.whl\n",
    "\n",
    "python -m pip install C:\\Users\\tfraser\\Downloads\\\n",
    "python -m pip install C:\\Users\\tfraser\\Downloads\\gensim-3.8.1-cp38-cp38-win_amd64.whl\n",
    "python -m pip install C:\\Users\\tfraser\\Downloads\\gensim-3.8.1-cp37-cp37m-win_amd64.whl\n",
    "\n",
    "conda install C:\\Users\\tfraser\\Downloads\\gensim-3.8.1-cp36-cp36m-win_amd64.whl\n",
    "\n"
   ]
  },
  {
   "cell_type": "markdown",
   "metadata": {},
   "source": [
    "# RUNNING PROGRAMS\n",
    "If you have a program open in IDLE’s file editor, running it is a simple matter of pressing F5 or selecting the Run>Run Module menu item. This is an easy way to run programs while writing them, but opening IDLE to run your finished programs can be a burden. There are more convenient ways to execute Python scripts.\n",
    "\n",
    "Shebang Line\n",
    "The first line of all your Python programs should be a shebang line, which tells your computer that you want Python to execute this program. The she- bang line begins with #!, but the rest depends on your operating system.\n",
    "• On Windows, the shebang line is #! python3.\n",
    "• On OS X, the shebang line is #! /usr/bin/env python3.\n",
    "• On Linux, the shebang line is #! /usr/bin/python3.\n",
    "\n",
    "You will be able to run Python scripts from IDLE without the shebang line, but the line is needed to run them from the command line.\n",
    "\n",
    "## Running Python Programs on Windows\n",
    "On Windows, the Python 3.4 interpreter is located at C:\\Python34\\python.exe. Alternatively, the convenient py.exe program will read the shebang line at the top of the .py file’s source code and run the appropriate version of Python for that script. The py.exe program will make sure to run the Python pro- gram with the correct version of Python if multiple versions are installed on your computer.\n",
    "To make it convenient to run your Python program, create a .bat batch file for running the Python program with py.exe. To make a batch file, make a new text file containing a single line like the following:\n",
    "@py.exe C:\\path\\to\\your\\pythonScript.py %*\n",
    "Replace this path with the absolute path to your own program, and save this file with a .bat file extension (for example, pythonScript.bat). This batch file will keep you from having to type the full absolute path for the Python program every time you want to run it. I recommend you place all your batch and .py files in a single folder, such as C:\\MyPythonScripts or C:\\Users\\YourName\\PythonScripts.\n",
    "The C:\\MyPythonScripts folder should be added to the system path on Windows so that you can run the batch files in it from the Run dialog. To do this, modify the PATH environment variable. Click the Start button and type Edit environment variables for your account. This option should auto-complete after you’ve begun to type it. The Environment Variables window that appears will look like Figure B-1.\n",
    "\n",
    "From System variables, select the Path variable and click Edit. In the Value text field, append a semicolon, type C:\\MyPythonScripts, and then click OK. Now you can run any Python script in the C:\\MyPythonScripts folder by simply pressing WIN-R and entering the script’s name. Running pythonScript, for instance, will run pythonScript .bat, which in turn will save you from having to run the whole command py.exe C:\\ MyPythonScripts\\pythonScript.py from the Run dialog.\n",
    "\n",
    "## Running Python Programs on OS X and Linux\n",
    "On OS X, selecting Applications4Utilities4Terminal will bring up a Terminal window. A Terminal window is a way to enter commands on your computer using only text, rather than clicking through a graphic interface. To bring up the Terminal window on Ubuntu Linux, press the WIN (or SUPER) key to bring up Dash and type in Terminal.\n",
    "The Terminal window will begin in the home folder of your user account. If my username is asweigart, the home folder will be /Users/asweigart on OS X and /home/asweigart on Linux. The tilde (~) character is a shortcut for your home folder, so you can enter cd ~ to change to your home folder. You can also use the cd command to change the current working directory to any other directory. On both OS X and Linux, the pwd command will print the current working directory.\n",
    "To run your Python programs, save your .py file to your home folder. Then, change the .py file’s permissions to make it executable by running chmod +x pythonScript.py. File permissions are beyond the scope of this book, but you will need to run this command on your Python file if you want to run the program from the Terminal window. Once you do so, you will be able to run your script whenever you want by opening a Terminal window and entering ./pythonScript.py. The shebang line at the top of the script will tell the operating system where to locate the Python interpreter.\n",
    "\n"
   ]
  },
  {
   "cell_type": "code",
   "execution_count": null,
   "metadata": {},
   "outputs": [],
   "source": []
  }
 ],
 "metadata": {
  "language_info": {
   "name": "python"
  }
 },
 "nbformat": 4,
 "nbformat_minor": 2
}
