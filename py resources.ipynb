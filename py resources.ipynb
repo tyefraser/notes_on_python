

chaining
https://practicaldatascience.co.uk/data-science/how-to-use-method-chaining-in-pandas

https://pandas.pydata.org/docs/reference/api/pandas.DataFrame.query.html


