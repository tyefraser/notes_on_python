{
 "cells": [
  {
   "cell_type": "markdown",
   "metadata": {},
   "source": [
    "# list Comprehension\n",
    "[ expresion context ]\n",
    "\n",
    "Using this structure can be very powerful"
   ]
  },
  {
   "cell_type": "code",
   "execution_count": null,
   "metadata": {},
   "outputs": [],
   "source": [
    "# The exmaple used is:\n",
    "\n",
    "# Read File Python One-Liner\n",
    "# [line.strip() for line in open(filename)]\n",
    "\n",
    "# THE DATA\n",
    "filename = 'zen_of_python.txt'\n",
    "# THE ONE-LINER\n",
    "lines = [line.strip() for line in open(filename)]\n",
    "# THE RESULT\n",
    "print(lines)\n",
    "# ['The Zen of Python, by Tim Peters',\n",
    "# 'Beautiful is better than ugly.',\n",
    "# 'Explicit is better than implicit.',\n",
    "# ...\n",
    "# \"Namespaces are one honking great idea -- let's do more of those!\"]\n",
    "\n",
    "\n",
    "# To understand this please read: https://blog.finxter.com/list-comprehension/\n",
    "# [ expression + context ]\n",
    "# line.strip() - expression - the expression to be evaluated for each element\n",
    "# This removes the leading and trailing characters\n",
    "# for line in open(filename) - context - the context in which the expression is evaluated\n",
    "# This is a for loop that iterates over each line in the file\n",
    "\n"
   ]
  },
  {
   "cell_type": "code",
   "execution_count": null,
   "metadata": {},
   "outputs": [],
   "source": [
    "# We can also use list comprehension to create a list of numbers\n",
    "# [ expression + context ]\n",
    "# [ expression for element in iterable ]\n",
    "# [ expression for element in iterable if condition ]\n",
    "# [ expression for element in iterable if condition1 and condition2 ]\n",
    "# [ expression for element1 in iterable1 and element2 in iterable2 ]\n",
    "# [ expression for element1 in iterable1 for element2 in iterable2 ]\n",
    "# [ expression for element in iterable if condition else other_expression ]\n",
    "# [ expression if condition else other_expression for element in iterable ]\n"
   ]
  },
  {
   "cell_type": "code",
   "execution_count": 1,
   "metadata": {},
   "outputs": [
    {
     "name": "stdout",
     "output_type": "stream",
     "text": [
      "[0, 1, 2, 3, 4, 5, 6, 7, 8, 9]\n"
     ]
    }
   ],
   "source": [
    "# Create a list of numbers from 0 to 9\n",
    "numbers = [x for x in range(10)]\n",
    "print(numbers)\n",
    "# [0, 1, 2, 3, 4, 5, 6, 7, 8, 9]"
   ]
  },
  {
   "cell_type": "code",
   "execution_count": 2,
   "metadata": {},
   "outputs": [
    {
     "name": "stdout",
     "output_type": "stream",
     "text": [
      "[0, 1, 4, 9, 16, 25, 36, 49, 64, 81]\n"
     ]
    }
   ],
   "source": [
    "# Calculate squares\n",
    "squares = [x*x for x in range(10)]\n",
    "print(squares)\n",
    "# [0, 1, 4, 9, 16, 25, 36, 49, 64, 81]"
   ]
  },
  {
   "cell_type": "code",
   "execution_count": 5,
   "metadata": {},
   "outputs": [
    {
     "name": "stdout",
     "output_type": "stream",
     "text": [
      "[[0, 1, 2, 3, 4], [0, 1, 2, 3, 4], [0, 1, 2, 3, 4]]\n",
      "[[0, 1, 2, 3, 4, 5], [0, 1, 2, 3, 4], [0, 1, 2, 3, 4]]\n",
      "[[0, 1, 2, 3, 4, 5], [0, 1, 2, 3, 4], [0, 1, 2, 3, 4], 5]\n"
     ]
    }
   ],
   "source": [
    "## Nested List Comprehension\n",
    "lst = [[x for x in range(5)] for y in range(3)]\n",
    "print(lst)\n",
    "# [[0, 1, 2, 3, 4], [0, 1, 2, 3, 4], [0, 1, 2, 3, 4]]\n",
    "\n",
    "lst[0].append(5)\n",
    "print(lst)\n",
    "\n",
    "lst.append(5)\n",
    "print(lst)"
   ]
  }
 ],
 "metadata": {
  "kernelspec": {
   "display_name": "Python 3",
   "language": "python",
   "name": "python3"
  },
  "language_info": {
   "codemirror_mode": {
    "name": "ipython",
    "version": 3
   },
   "file_extension": ".py",
   "mimetype": "text/x-python",
   "name": "python",
   "nbconvert_exporter": "python",
   "pygments_lexer": "ipython3",
   "version": "3.10.11"
  }
 },
 "nbformat": 4,
 "nbformat_minor": 2
}
