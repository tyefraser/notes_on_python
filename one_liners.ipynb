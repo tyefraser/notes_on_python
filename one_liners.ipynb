{
 "cells": [
  {
   "cell_type": "code",
   "execution_count": 25,
   "metadata": {},
   "outputs": [
    {
     "data": {
      "text/plain": [
       "2"
      ]
     },
     "execution_count": 25,
     "metadata": {},
     "output_type": "execute_result"
    }
   ],
   "source": [
    "y = 'hello'\n",
    "x = 'el'\n",
    "y.find(x) # string.find() method"
   ]
  },
  {
   "cell_type": "code",
   "execution_count": null,
   "metadata": {},
   "outputs": [],
   "source": [
    "# Slicing - [start:stop:step].\n",
    "# Slicing is a Python-specific concept for selecting a range of values\n",
    "# from sequences such as lists or strings\n",
    "# By default, it is 1. Setting step=2 means that your slice consists of \n",
    "# every second character.\n",
    "\n",
    "# Path: one_liners.ipynb\n",
    "# Slicing - text\n",
    "x = 'hello'\n",
    "x[1:3] # 'el'\n",
    "x[1:] # 'ello'\n",
    "x[:3] # 'hel'\n",
    "x[:] # 'hello'\n",
    "x[::2] # 'hlo'\n",
    "x[::-1] # 'olleh'\n",
    "x[-1] # 'o'\n",
    "x[-4:-2] # 'el'\n",
    "\n",
    "# Path: one_liners.ipynb\n",
    "# Slicing - list\n",
    "x = [1, 2, 3, 4, 5]\n",
    "x[1:3] # [2, 3]\n",
    "x[1:] # [2, 3, 4, 5]\n",
    "x[:3] # [1, 2, 3]\n",
    "x[:] # [1, 2, 3, 4, 5]\n",
    "x[::2] # [1, 3, 5]\n",
    "x[::-1] # [5, 4, 3, 2, 1]\n",
    "x[-1] # 5\n",
    "x[-4:-2] # [2, 3]\n",
    "\n",
    "# Path: one_liners.ipynb\n",
    "# Slicing - tuple\n",
    "x = (1, 2, 3, 4, 5)\n",
    "x[1:3] # (2, 3)\n",
    "x[1:] # (2, 3, 4, 5)\n",
    "x[:3] # (1, 2, 3)\n",
    "x[:] # (1, 2, 3, 4, 5)\n",
    "x[::2] # (1, 3, 5)\n",
    "x[::-1] # (5, 4, 3, 2, 1)\n",
    "x[-1] # 5\n",
    "x[-4:-2] # (2, 3)\n",
    "\n",
    "# Path: one_liners.ipynb\n",
    "# Slicing - set\n",
    "x = {1, 2, 3, 4, 5}\n",
    "x[1:3] # TypeError: 'set' object is not subscriptable\n",
    "x[1:] # TypeError: 'set' object is not subscriptable\n",
    "\n",
    "# Path: one_liners.ipynb\n",
    "# Slicing - dict\n",
    "x = {1: 1, 2: 2, 3: 3, 4: 4, 5: 5}\n",
    "x[1:3] # TypeError: unhashable type: 'slice'\n",
    "x[1:] # TypeError: unhashable type: 'slice'\n",
    "\n",
    "# Path: one_liners.ipynb\n",
    "# Slicing - numpy array\n",
    "import numpy as np\n",
    "x = np.array([1, 2, 3, 4, 5])\n",
    "x[1:3] # array([2, 3])\n",
    "x[1:] # array([2, 3, 4, 5])\n",
    "x[:3] # array([1, 2, 3])\n",
    "x[:] # array([1, 2, 3, 4, 5])\n",
    "x[::2] # array([1, 3, 5])\n",
    "x[::-1] # array([5, 4, 3, 2, 1])\n",
    "x[-1] # 5\n",
    "x[-4:-2] # array([2, 3])\n",
    "\n",
    "# Path: one_liners.ipynb\n",
    "# Slicing - pandas series\n",
    "import pandas as pd\n",
    "x = pd.Series([1, 2, 3, 4, 5])\n",
    "x[1:3] # 1    2\n",
    "       # 2    3\n",
    "       # dtype: int64\n",
    "x[1:]   # 1    2\n",
    "        # 2    3\n",
    "        # 3    4\n",
    "        # 4    5\n",
    "        # dtype: int64 \n",
    "x[:3]   # 0    1\n",
    "        # 1    2\n",
    "        # 2    3\n",
    "        # dtype: int64  \n",
    "x[:]    # 0    1\n",
    "        # 1    2\n",
    "        # 2    3\n",
    "        # 3    4\n",
    "        # 4    5\n",
    "        # dtype: int64\n",
    "x[::2]  # 0    1\n",
    "        # 2    3\n",
    "        # 4    5\n",
    "        # dtype: int64\n",
    "x[::-1] # 4    5\n",
    "        # 3    4\n",
    "        # 2    3\n",
    "        # 1    2\n",
    "        # 0    1\n",
    "        # dtype: int64\n",
    "x[-1] # 5\n",
    "x[-4:-2] # 1    2\n",
    "         # 2    3\n",
    "         # dtype: int64\n",
    "\n",
    "# Path: one_liners.ipynb\n",
    "# Slicing - pandas dataframe\n",
    "import pandas as pd\n",
    "x = pd.DataFrame({'a': [1, 2, 3, 4, 5], 'b': [6, 7, 8, 9, 10]})\n",
    "x[1:3] #    a   b\n",
    "       # 1  2   7\n",
    "       # 2  3   8\n",
    "\n",
    "x[1:]  #    a   b\n",
    "       # 1  2   7\n",
    "       # 2  3   8\n",
    "       # 3  4   9\n",
    "       # 4  5  10\n",
    "\n",
    "x[:3]   #    a  b\n",
    "        # 0  1  6\n",
    "        # 1  2  7\n",
    "        # 2  3  8\n",
    "\n",
    "x[:]    #    a   b\n",
    "        # 0  1   6\n",
    "        # 1  2   7\n",
    "        # 2  3   8\n",
    "        # 3  4   9\n",
    "        # 4  5  10\n",
    "\n",
    "x[::2]  #    a   b\n",
    "        # 0  1   6\n",
    "        # 2  3   8\n",
    "        # 4  5  10\n",
    "\n",
    "x[::-1] #    a   b\n",
    "        # 4  5  10\n",
    "        # 3  4   9\n",
    "        # 2  3   8\n",
    "        # 1  2   7\n",
    "        # 0  1   6\n",
    "\n",
    "x[-1] # KeyError: -1\n",
    "\n",
    "x[-4:-2] #    a  b\n",
    "         # 1  2  7\n",
    "         # 2  3  8\n",
    "\n",
    "# Path: one_liners.ipynb\n",
    "# Slicing - pandas dataframe with index\n",
    "import pandas as pd\n",
    "x = pd.DataFrame({'a': [1, 2, 3, 4, 5], 'b': [6, 7, 8, 9, 10]}, index=['a', 'b', 'c', 'd', 'e'])\n",
    "\n",
    "\n",
    "\n",
    "\n",
    "\n"
   ]
  },
  {
   "cell_type": "code",
   "execution_count": 12,
   "metadata": {},
   "outputs": [
    {
     "data": {
      "text/plain": [
       "[1, 3, 5, 7, 9]"
      ]
     },
     "execution_count": 12,
     "metadata": {},
     "output_type": "execute_result"
    }
   ],
   "source": [
    "# Read File Python One-Liner\n",
    "# [line.strip() for line in open(filename)]\n",
    "\n",
    "# THE DATA\n",
    "filename = 'zen_of_python.txt'\n",
    "# THE ONE-LINER\n",
    "lines = [line.strip() for line in open(filename)]\n",
    "# THE RESULT\n",
    "print(lines)\n",
    "# ['The Zen of Python, by Tim Peters',\n",
    "# 'Beautiful is better than ugly.',\n",
    "# 'Explicit is better than implicit.',\n",
    "# ...\n",
    "# \"Namespaces are one honking great idea -- let's do more of those!\"]\n",
    "\n",
    "\n",
    "# To understand this please read: https://blog.finxter.com/list-comprehension/\n",
    "# [ expression + context ]\n",
    "# line.strip() - expression - the expression to be evaluated for each element\n",
    "# This removes the leading and trailing characters\n",
    "# for line in open(filename) - context - the context in which the expression is evaluated\n",
    "# This is a for loop that iterates over each line in the file\n"
   ]
  },
  {
   "cell_type": "code",
   "execution_count": 34,
   "metadata": {},
   "outputs": [
    {
     "name": "stdout",
     "output_type": "stream",
     "text": [
      "['Ann']\n",
      "['Ann']\n",
      "[('Ann', 1100000)]\n",
      "[('Ann', 1100000)]\n",
      "  name   income\n",
      "2  Ann  1100000\n"
     ]
    }
   ],
   "source": [
    "# Filtering Python One-Liner\n",
    "# (name, $-income)\n",
    "customers = [(\"John\", 240000),\n",
    "             (\"Alice\", 120000),\n",
    "             (\"Ann\", 1100000),\n",
    "             (\"Zach\", 44000)]\n",
    "# your high-value customers earning <$1M\n",
    "whales = []\n",
    "for customer, income in customers:\n",
    "    if income>1000000:\n",
    "        whales.append(customer)\n",
    "print(whales)\n",
    "# ['Ann']\n",
    "\n",
    "\n",
    "# Instead use this:\n",
    "whales = [x for x,y in customers if y>1000000]\n",
    "print(whales)\n",
    "# ['Ann']\n",
    "\n",
    "# You can also change hte naming:\n",
    "whales = [(cust,inc) for cust,inc in customers if inc>1000000]\n",
    "print(whales)\n",
    "\n",
    "# You can also use filter() function\n",
    "whales = list(filter(lambda x: x[1]>1000000, customers))\n",
    "print(whales)\n",
    "# [('Ann', 1100000)]\n",
    "\n",
    "\n",
    "# You can also use pandas\n",
    "import pandas as pd\n",
    "df = pd.DataFrame(customers, columns=['name', 'income'])\n",
    "print(df[df['income']>1000000])\n",
    "#    name   income\n",
    "# 2   Ann  1100000\n"
   ]
  },
  {
   "cell_type": "code",
   "execution_count": 9,
   "metadata": {},
   "outputs": [
    {
     "data": {
      "text/plain": [
       "0"
      ]
     },
     "execution_count": 9,
     "metadata": {},
     "output_type": "execute_result"
    }
   ],
   "source": [
    "phrase='212'\n",
    "phrase.find(phrase[::-1]) # Palindrome Python One-Liner # 0=yes 1=no\n"
   ]
  },
  {
   "cell_type": "code",
   "execution_count": 11,
   "metadata": {},
   "outputs": [
    {
     "name": "stdout",
     "output_type": "stream",
     "text": [
      "a= 1 b= 2\n",
      "a= 2 b= 1\n"
     ]
    }
   ],
   "source": [
    "a=1\n",
    "b=2\n",
    "print(\"a=\",a,\"b=\",b)\n",
    "a, b = b, a # Swap Two Variables Python One-Liner\n",
    "print(\"a=\",a,\"b=\",b)"
   ]
  },
  {
   "cell_type": "code",
   "execution_count": 13,
   "metadata": {},
   "outputs": [
    {
     "name": "stdout",
     "output_type": "stream",
     "text": [
      "[1, 3, 5, 7, 9]\n"
     ]
    },
    {
     "data": {
      "text/plain": [
       "25"
      ]
     },
     "execution_count": 13,
     "metadata": {},
     "output_type": "execute_result"
    }
   ],
   "source": [
    "stock_prices = [1,2,3,4,5,6,7,8,9,10]\n",
    "print(stock_prices[::2]) # Every Other Value Python One-Liner\n",
    "sum(stock_prices[::2]) # Sum Over Every Other Value Python One-Liner"
   ]
  },
  {
   "cell_type": "code",
   "execution_count": null,
   "metadata": {},
   "outputs": [],
   "source": [
    "# Factorial Python One-Liner\n",
    "reduce(lambda x, y: x * y, range(1, n+1))"
   ]
  },
  {
   "cell_type": "code",
   "execution_count": null,
   "metadata": {},
   "outputs": [],
   "source": [
    "# Performance Profiling Python One-Liner\n",
    "python -m cProfile foo.py"
   ]
  },
  {
   "cell_type": "code",
   "execution_count": 16,
   "metadata": {},
   "outputs": [
    {
     "data": {
      "text/plain": [
       "<function __main__.<lambda>(l)>"
      ]
     },
     "execution_count": 16,
     "metadata": {},
     "output_type": "execute_result"
    }
   ],
   "source": [
    "# Power set Python One-Liner\n",
    "lambda l: reduce(lambda z, x: z + [y + [x] for y in z], l, [[]])"
   ]
  },
  {
   "cell_type": "code",
   "execution_count": 23,
   "metadata": {},
   "outputs": [
    {
     "name": "stdout",
     "output_type": "stream",
     "text": [
      "55\n"
     ]
    }
   ],
   "source": [
    "lambda x: x if x<=1 else fib(x-1) + fib(x-2) # Fibonacci Python One-Liner\n",
    "\n",
    "\n",
    "#' For practical purposes, it's usually recommended to implement the Fibonacci sequence using a regular function rather than a lambda function, as it's more readable and easier to understand. Here's an example of a Fibonacci function implemented as a regular Python function:\n",
    "def fib(x):\n",
    "    if x <= 1:\n",
    "        return x\n",
    "    else:\n",
    "        return fib(x-1) + fib(x-2)\n",
    "\n",
    "# Example usage:\n",
    "result = fib(10)\n",
    "print(result)  # Output: 55\n"
   ]
  },
  {
   "cell_type": "code",
   "execution_count": 22,
   "metadata": {},
   "outputs": [
    {
     "ename": "NameError",
     "evalue": "name 'fib' is not defined",
     "output_type": "error",
     "traceback": [
      "\u001b[1;31m---------------------------------------------------------------------------\u001b[0m",
      "\u001b[1;31mNameError\u001b[0m                                 Traceback (most recent call last)",
      "\u001b[1;32mc:\\Users\\tyewf\\Documents\\GitHub\\notes_on_python\\one_liners.ipynb Cell 9\u001b[0m line \u001b[0;36m1\n\u001b[1;32m----> <a href='vscode-notebook-cell:/c%3A/Users/tyewf/Documents/GitHub/notes_on_python/one_liners.ipynb#X12sZmlsZQ%3D%3D?line=0'>1</a>\u001b[0m fib(\u001b[39m4\u001b[39m)\n",
      "\u001b[1;31mNameError\u001b[0m: name 'fib' is not defined"
     ]
    }
   ],
   "source": [
    "# Quicksort Python One-liner\n",
    "lambda L: [] if L==[] else qsort([x for x in L[1:] if x< L[0]]) + L[0:1] + qsort([x for x in L[1:] if x>=L[0]])"
   ]
  },
  {
   "cell_type": "code",
   "execution_count": null,
   "metadata": {},
   "outputs": [],
   "source": [
    "# Sieve of Eratosthenes Python One-liner\n",
    "reduce( (lambda r,x: r-set(range(x**2,n,x)) if (x in r) else r), range(2,int(n**0.5)), set(range(2,n)))"
   ]
  }
 ],
 "metadata": {
  "kernelspec": {
   "display_name": "Python 3",
   "language": "python",
   "name": "python3"
  },
  "language_info": {
   "codemirror_mode": {
    "name": "ipython",
    "version": 3
   },
   "file_extension": ".py",
   "mimetype": "text/x-python",
   "name": "python",
   "nbconvert_exporter": "python",
   "pygments_lexer": "ipython3",
   "version": "3.10.11"
  }
 },
 "nbformat": 4,
 "nbformat_minor": 2
}
