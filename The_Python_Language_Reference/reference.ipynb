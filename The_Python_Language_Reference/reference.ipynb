{
 "cells": [
  {
   "cell_type": "markdown",
   "metadata": {},
   "source": [
    "Source: https://docs.python.org/3/reference/index.html#reference-index\n",
    "\n",
    "\n",
    "Also to do: https://docs.python.org/3/library/index.html#library-index\n",
    "https://docs.python.org/3/extending/index.html#extending-index\n",
    "https://docs.python.org/3/c-api/index.html#c-api-index\n",
    "\n",
    "cmdline:\n",
    "https://docs.python.org/3/using/cmdline.html#using-on-general\n"
   ]
  },
  {
   "cell_type": "code",
   "execution_count": null,
   "metadata": {},
   "outputs": [],
   "source": []
  }
 ],
 "metadata": {
  "language_info": {
   "name": "python"
  }
 },
 "nbformat": 4,
 "nbformat_minor": 2
}
