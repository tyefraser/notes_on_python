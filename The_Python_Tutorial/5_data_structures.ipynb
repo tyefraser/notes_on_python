{
 "cells": [
  {
   "cell_type": "code",
   "execution_count": 2,
   "metadata": {},
   "outputs": [],
   "source": [
    "# Data Structures\n",
    "# https://docs.python.org/3/tutorial/datastructures.html#data-structures\n",
    "\n",
    "# More on lists\n",
    "\n",
    "# The list data type has some more methods. Here are all of the methods of list objects:"
   ]
  },
  {
   "cell_type": "code",
   "execution_count": 16,
   "metadata": {},
   "outputs": [
    {
     "name": "stdout",
     "output_type": "stream",
     "text": [
      "[1, 2, 3, 4, 5, 6, 7, 8, 9, 10]\n"
     ]
    }
   ],
   "source": [
    "my_list = [1, 2, 3, 4, 5, 6, 7, 8, 9]\n",
    "\n",
    "# Append\n",
    "# list.append(x)\n",
    "my_list.append(10)\n",
    "print(my_list)"
   ]
  },
  {
   "cell_type": "code",
   "execution_count": 17,
   "metadata": {},
   "outputs": [
    {
     "data": {
      "text/plain": [
       "[1, 2, 3, 4, 5, 6, 7, 8, 9, 10, 11]"
      ]
     },
     "execution_count": 17,
     "metadata": {},
     "output_type": "execute_result"
    }
   ],
   "source": [
    "# Add an item to the end of the list. Equivalent to a[len(a):] = [x].\n",
    "my_list[len(my_list):] = [11]\n",
    "my_list"
   ]
  },
  {
   "cell_type": "code",
   "execution_count": 18,
   "metadata": {},
   "outputs": [
    {
     "data": {
      "text/plain": [
       "[1, 2, 3, 4, 5, 6, 7, 8, 9, 10, 11, 12, 13, 14]"
      ]
     },
     "execution_count": 18,
     "metadata": {},
     "output_type": "execute_result"
    }
   ],
   "source": [
    "# extend\n",
    "# list.extend(iterable)\n",
    "my_list.extend([12, 13, 14])\n",
    "my_list\n",
    "\n",
    "# Extend the list by appending all the items from the iterable."
   ]
  },
  {
   "cell_type": "code",
   "execution_count": 19,
   "metadata": {},
   "outputs": [
    {
     "data": {
      "text/plain": [
       "[1, 2, 3, 4, 5, 6, 7, 8, 9, 10, 11, 12, 13, 14, 15, 16, 17]"
      ]
     },
     "execution_count": 19,
     "metadata": {},
     "output_type": "execute_result"
    }
   ],
   "source": [
    "# Equivalent to a[len(a):] = iterable.\n",
    "my_list[len(my_list):] = [15, 16, 17]\n",
    "my_list\n"
   ]
  },
  {
   "cell_type": "code",
   "execution_count": 20,
   "metadata": {},
   "outputs": [
    {
     "data": {
      "text/plain": [
       "[0, 1, 2, 3, 4, 5, 6, 7, 8, 9, 10, 11, 12, 13, 14, 15, 16, 17]"
      ]
     },
     "execution_count": 20,
     "metadata": {},
     "output_type": "execute_result"
    }
   ],
   "source": [
    "# insert\n",
    "# list.insert(i, x)\n",
    "\n",
    "# Insert an item at a given position. The first argument is the index of the element before which to insert, so \n",
    "# a.insert(0, x) inserts at the front of the list, and a.insert(len(a), x) is equivalent to a.append(x).\n",
    "\n",
    "my_list.insert(0, 0) # insert 0 at the beginning of the list, moving all other elements to the right\n",
    "my_list"
   ]
  },
  {
   "cell_type": "code",
   "execution_count": 21,
   "metadata": {},
   "outputs": [
    {
     "data": {
      "text/plain": [
       "['new', 0, 1, 2, 3, 4, 5, 6, 7, 8, 9, 10, 11, 12, 13, 14, 15, 16, 17]"
      ]
     },
     "execution_count": 21,
     "metadata": {},
     "output_type": "execute_result"
    }
   ],
   "source": [
    "my_list.insert(0, 'new') # insert 'new' at the beginning of the list, moving all other elements to the right\n",
    "my_list"
   ]
  },
  {
   "cell_type": "code",
   "execution_count": 22,
   "metadata": {},
   "outputs": [
    {
     "data": {
      "text/plain": [
       "['new', 0, 1, 2, 3, 4, 5, 6, 7, 8, 9, 10, 11, 12, 13, 14, 15, 16, 'old', 17]"
      ]
     },
     "execution_count": 22,
     "metadata": {},
     "output_type": "execute_result"
    }
   ],
   "source": [
    "my_list.insert(-1, 'old') # insert 'old' at the end of the list, moving all other elements to the right\n",
    "my_list # Note: -1 is the last element of the list, but -0 is the first element of the list\n",
    "# you have to use append to add an element at the end of the list\n",
    "\n",
    "# Note: insert is a very slow operation compared to append and extend."
   ]
  },
  {
   "cell_type": "code",
   "execution_count": 23,
   "metadata": {},
   "outputs": [
    {
     "data": {
      "text/plain": [
       "['new', 0, 1, 2, 3, 4, 5, 6, 7, 8, 9, 10, 11, 12, 13, 14, 15, 16, 17]"
      ]
     },
     "execution_count": 23,
     "metadata": {},
     "output_type": "execute_result"
    }
   ],
   "source": [
    "# remove\n",
    "# list.remove(x)\n",
    "# Remove the first item from the list whose value is equal to x. It raises a ValueError if there is no such item.\n",
    "\n",
    "my_list.remove('old')\n",
    "my_list"
   ]
  },
  {
   "cell_type": "code",
   "execution_count": 24,
   "metadata": {},
   "outputs": [
    {
     "data": {
      "text/plain": [
       "[0, 1, 2, 3, 4, 5, 6, 7, 8, 9, 10, 11, 12, 13, 14, 15, 16, 17]"
      ]
     },
     "execution_count": 24,
     "metadata": {},
     "output_type": "execute_result"
    }
   ],
   "source": [
    "# pop\n",
    "# list.pop([i])\n",
    "# Remove the item at the given position in the list, and return it. If no index is specified, a.pop() removes and \n",
    "# returns the last item in the list. (The square brackets around the i in the method signature denote that the parameter\n",
    "# is optional, not that you should type square brackets at that position. You will see this notation frequently in the \n",
    "# Python Library Reference.)\n",
    "\n",
    "my_list.pop(0) # remove the first element of the list\n",
    "my_list\n"
   ]
  },
  {
   "cell_type": "code",
   "execution_count": 27,
   "metadata": {},
   "outputs": [
    {
     "name": "stdout",
     "output_type": "stream",
     "text": [
      "[1, 2, 3, 4, 5]\n",
      "[]\n",
      "[1, 2, 3, 4, 5]\n",
      "[]\n"
     ]
    }
   ],
   "source": [
    "# Clear\n",
    "# list.clear()\n",
    "# Remove all items from the list. Equivalent to del a[:].\n",
    "my_list_2 = [1, 2, 3, 4, 5]\n",
    "print(my_list_2)\n",
    "list.clear(my_list_2)\n",
    "print(my_list_2)\n",
    "\n",
    "my_list_2 = [1, 2, 3, 4, 5]\n",
    "print(my_list_2)\n",
    "my_list_2.clear() # note the alternative way of using (can be done with all methods)\n",
    "print(my_list_2)\n"
   ]
  },
  {
   "cell_type": "code",
   "execution_count": 28,
   "metadata": {},
   "outputs": [
    {
     "name": "stdout",
     "output_type": "stream",
     "text": [
      "The index of the first occurrence of 20 is: 1\n",
      "Index of 20 starting from index 3: 4\n",
      "Index of 20 within range [1:5]: 1\n",
      "Element not found in the list: 70 is not in list\n"
     ]
    }
   ],
   "source": [
    "# Index\n",
    "# list.index(x[, start[, end]])\n",
    "# Return zero-based index in the list of the first item whose value is equal to x. Raises a ValueError if there is no \n",
    "# such item.\n",
    "\n",
    "# The optional arguments start and end are interpreted as in the slice notation and are used to limit the search to a \n",
    "# particular subsequence of the list. The returned index is computed relative to the beginning of the full sequence \n",
    "# rather than the start argument.\n",
    "\n",
    "# Create a list\n",
    "my_list = [10, 20, 30, 40, 20, 50, 60]\n",
    "\n",
    "# Find the index of the first occurrence of the element 20\n",
    "index = my_list.index(20)\n",
    "print(f\"The index of the first occurrence of 20 is: {index}\")\n",
    "\n",
    "# Find the index of the first occurrence of 20, starting from index 3 (inclusive)\n",
    "index = my_list.index(20, 3)\n",
    "print(f\"Index of 20 starting from index 3: {index}\")\n",
    "\n",
    "# Find the index of the first occurrence of 20 within the range [1:5]\n",
    "index = my_list.index(20, 1, 5)\n",
    "print(f\"Index of 20 within range [1:5]: {index}\")\n",
    "\n",
    "# Attempt to find an element that is not in the list\n",
    "try:\n",
    "    index = my_list.index(70)\n",
    "    print(f\"The index of 70 is: {index}\")\n",
    "except ValueError as e:\n",
    "    print(\"Element not found in the list:\", e)\n",
    "\n"
   ]
  },
  {
   "cell_type": "code",
   "execution_count": 30,
   "metadata": {},
   "outputs": [
    {
     "name": "stdout",
     "output_type": "stream",
     "text": [
      "2\n",
      "1\n"
     ]
    }
   ],
   "source": [
    "# count\n",
    "# list.count(x)\n",
    "# Return the number of times x appears in the list.\n",
    "\n",
    "print(my_list.count(20))\n",
    "print(my_list.count(60))"
   ]
  },
  {
   "cell_type": "code",
   "execution_count": 47,
   "metadata": {},
   "outputs": [
    {
     "name": "stdout",
     "output_type": "stream",
     "text": [
      "[1, 3, 6, 10, 54, 88, 100]\n"
     ]
    }
   ],
   "source": [
    "# Sort\n",
    "# list.sort(*, key=None, reverse=False)\n",
    "# Sort the items of the list in place (the arguments can be used for sort customization, see sorted() for their \n",
    "# explanation).\n",
    "\n",
    "my_list = [100, 88, 6, 54, 3, 1, 10]\n",
    "my_list.sort()\n",
    "print(my_list)"
   ]
  },
  {
   "cell_type": "code",
   "execution_count": 48,
   "metadata": {},
   "outputs": [
    {
     "name": "stdout",
     "output_type": "stream",
     "text": [
      "[100, 88, 54, 10, 6, 3, 1]\n"
     ]
    }
   ],
   "source": [
    "# Reverse\n",
    "# list.reverse()\n",
    "# Reverse the elements of the list in place.\n",
    "\n",
    "list.reverse(my_list)\n",
    "print(my_list)"
   ]
  },
  {
   "cell_type": "code",
   "execution_count": 49,
   "metadata": {},
   "outputs": [
    {
     "name": "stdout",
     "output_type": "stream",
     "text": [
      "[100, 88, 54, 10, 6, 3, 1]\n"
     ]
    }
   ],
   "source": [
    "# copy\n",
    "# list.copy()\n",
    "# Return a shallow copy of the list. Equivalent to a[:].\n",
    "\n",
    "my_list_2 = my_list.copy()\n",
    "print(my_list_2)"
   ]
  },
  {
   "cell_type": "code",
   "execution_count": 50,
   "metadata": {},
   "outputs": [
    {
     "data": {
      "text/plain": [
       "[100, 88, 54, 10, 6, 3, 1, 100]"
      ]
     },
     "execution_count": 50,
     "metadata": {},
     "output_type": "execute_result"
    }
   ],
   "source": [
    "my_list_2.append(100)\n",
    "my_list_2"
   ]
  },
  {
   "cell_type": "code",
   "execution_count": 51,
   "metadata": {},
   "outputs": [
    {
     "data": {
      "text/plain": [
       "[100, 88, 54, 10, 6, 3, 1]"
      ]
     },
     "execution_count": 51,
     "metadata": {},
     "output_type": "execute_result"
    }
   ],
   "source": [
    "my_list # notice that my_list is not affected by the changes made to my_list_2"
   ]
  },
  {
   "cell_type": "code",
   "execution_count": 54,
   "metadata": {},
   "outputs": [
    {
     "name": "stdout",
     "output_type": "stream",
     "text": [
      "[100, 88, 54, 10, 6, 3, 1]\n",
      "[100, 88, 54, 10, 6, 3, 1, 100]\n",
      "[100, 88, 54, 10, 6, 3, 1, 100]\n"
     ]
    }
   ],
   "source": [
    "# however if you do this:\n",
    "my_list_3 = my_list\n",
    "print(my_list_3)\n",
    "\n",
    "my_list_3.append(100)\n",
    "print(my_list_3)\n",
    "\n",
    "print(my_list) # notice that my_list is affected by the changes made to my_list_3\n"
   ]
  },
  {
   "cell_type": "code",
   "execution_count": null,
   "metadata": {},
   "outputs": [],
   "source": []
  },
  {
   "cell_type": "code",
   "execution_count": null,
   "metadata": {},
   "outputs": [],
   "source": [
    "# Up to: https://docs.python.org/3/tutorial/datastructures.html#using-lists-as-stacks"
   ]
  },
  {
   "cell_type": "code",
   "execution_count": null,
   "metadata": {},
   "outputs": [],
   "source": []
  },
  {
   "cell_type": "code",
   "execution_count": null,
   "metadata": {},
   "outputs": [],
   "source": []
  },
  {
   "cell_type": "code",
   "execution_count": null,
   "metadata": {},
   "outputs": [],
   "source": []
  },
  {
   "cell_type": "code",
   "execution_count": null,
   "metadata": {},
   "outputs": [],
   "source": []
  },
  {
   "cell_type": "code",
   "execution_count": null,
   "metadata": {},
   "outputs": [],
   "source": []
  },
  {
   "cell_type": "code",
   "execution_count": null,
   "metadata": {},
   "outputs": [],
   "source": []
  },
  {
   "cell_type": "code",
   "execution_count": null,
   "metadata": {},
   "outputs": [],
   "source": []
  },
  {
   "cell_type": "code",
   "execution_count": null,
   "metadata": {},
   "outputs": [],
   "source": []
  },
  {
   "cell_type": "code",
   "execution_count": null,
   "metadata": {},
   "outputs": [],
   "source": []
  }
 ],
 "metadata": {
  "kernelspec": {
   "display_name": "Python 3",
   "language": "python",
   "name": "python3"
  },
  "language_info": {
   "codemirror_mode": {
    "name": "ipython",
    "version": 3
   },
   "file_extension": ".py",
   "mimetype": "text/x-python",
   "name": "python",
   "nbconvert_exporter": "python",
   "pygments_lexer": "ipython3",
   "version": "3.10.11"
  }
 },
 "nbformat": 4,
 "nbformat_minor": 2
}
