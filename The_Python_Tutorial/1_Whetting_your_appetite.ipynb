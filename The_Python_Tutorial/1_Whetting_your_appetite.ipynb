{
 "cells": [
  {
   "cell_type": "markdown",
   "metadata": {},
   "source": [
    "# The Python Tutorial\n",
    "Source: https://docs.python.org/3/tutorial/index.html\n",
    "\n",
    "This is used as a reference for the tutorial linked above\n",
    "\n",
    "Please read along with the code in the ipynb and the website\n",
    "\n",
    "Also refer to the glossary too: https://docs.python.org/3/glossary.html#glossary\n",
    "\n"
   ]
  },
  {
   "cell_type": "markdown",
   "metadata": {},
   "source": [
    "# 1. Whetting your appetite\n",
    "https://docs.python.org/3/tutorial/appetite.html\n",
    "\n",
    "Key notes:\n",
    "## Modules\n",
    "Python allows you to split your program into modules (https://docs.python.org/3/glossary.html#term-module). These can be reused in other Python programs.\n",
    "\n",
    "*No need to understand what this means just yet, but just know you can write code to do specific things, for example add two numbers, and any time you need to do this you just call your module/function so you dont have to repeat that code.*\n",
    "\n",
    "## Interpreted language\n",
    "Python is an interpreted language (https://docs.python.org/3/glossary.html#term-interpreted), as opposed to a compiled one (https://byjus.com/gate/difference-between-compiled-and-interpreted-language/). This means that source files can be run directly without explicitly creating an executable which is then run - in languages such as C you need to compile your code (aka save the human readable code into machine readable code) before running it, everytime!\n",
    "\n",
    "Note: Interpreted languages typically have a shorter development/debug cycle than compiled ones, though their programs generally also run more slowly.\n"
   ]
  },
  {
   "cell_type": "markdown",
   "metadata": {},
   "source": [
    "\n",
    "# 2 Using the Python Interpreter\n",
    "The Python interpreter is a program that executes Python code. It is the core component of the Python programming language and is responsible for translating and executing Python scripts.\n",
    "\n",
    "The Python interpreter, being a program, is an executable file saved with the extension \".exe\". You can find where this file exists:\n",
    "\n",
    "On Windows using the following in the \"Command Prompt\":\n",
    "`where python`\n",
    "This should give you the string you can enter into the File Explorer to find the Interpreter file, e.g:\n",
    "`C:\\Users\\user_name\\AppData\\Local\\Microsoft\\WindowsApps\\python.exe`\n",
    "\n",
    "Enter into the file explorer:\n",
    "`C:\\Users\\user_name\\AppData\\Local\\Microsoft\\WindowsApps`\n",
    "\n",
    "On Linux and macOS, open a terminal and run:\n",
    "`which python`\n",
    "\n",
    "\n",
    "If the above has and error or you can't find the python.exe, you may need to download Python from:\n",
    "* https://docs.python.org/3/using/configure.html\n",
    "* https://docs.python.org/3/using/windows.html#windows-store\n",
    "* https://docs.python.org/3/using/mac.html\n",
    "\n",
    "\n",
    "If you double click on the file you will open the terminal that can interpret Python code. For example type the following two lines:\n",
    "``` Python\n",
    "a='Hello World!'\n",
    "print(a)\n",
    "```\n",
    "\n",
    "You should get something like this\n",
    "```\n",
    ">>> a='Hello World!'\n",
    ">>> print(a)\n",
    "Hello World!\n",
    "```\n",
    "\n",
    "It is good to remember that this Interpreter is how Python code is run, however, later on we will make use of a GUI, if you're reading this through the .ipynb then you can also use this file to run the Python code too.\n",
    "\n",
    "Lets try some simple code you can run in the terminal or ipynb:\n",
    "\n"
   ]
  },
  {
   "cell_type": "code",
   "execution_count": 2,
   "metadata": {},
   "outputs": [
    {
     "data": {
      "text/plain": [
       "2"
      ]
     },
     "execution_count": 2,
     "metadata": {},
     "output_type": "execute_result"
    }
   ],
   "source": [
    "# Simple calculations\n",
    "1+1"
   ]
  },
  {
   "cell_type": "code",
   "execution_count": 4,
   "metadata": {},
   "outputs": [
    {
     "data": {
      "text/plain": [
       "3"
      ]
     },
     "execution_count": 4,
     "metadata": {},
     "output_type": "execute_result"
    }
   ],
   "source": [
    "a = 1\n",
    "b = 2\n",
    "a + b"
   ]
  },
  {
   "cell_type": "code",
   "execution_count": 5,
   "metadata": {},
   "outputs": [
    {
     "name": "stdout",
     "output_type": "stream",
     "text": [
      "3\n"
     ]
    }
   ],
   "source": [
    "a = 1\n",
    "b = 2\n",
    "c = a + b # notice nothing is printed out if you just assign a variable\n",
    "print(c) # if you want to see the value, you should use print() function"
   ]
  },
  {
   "cell_type": "code",
   "execution_count": 6,
   "metadata": {},
   "outputs": [
    {
     "name": "stdout",
     "output_type": "stream",
     "text": [
      "0\n",
      "1\n",
      "2\n",
      "3\n",
      "4\n",
      "5\n",
      "6\n",
      "7\n",
      "8\n",
      "9\n"
     ]
    }
   ],
   "source": [
    "# A few quick one-line examples of Python code are:\n",
    "for i in range(10): print(i)\n"
   ]
  },
  {
   "cell_type": "code",
   "execution_count": 8,
   "metadata": {},
   "outputs": [
    {
     "name": "stdout",
     "output_type": "stream",
     "text": [
      "0\n",
      "1\n",
      "2\n",
      "3\n",
      "4\n",
      "5\n",
      "6\n",
      "7\n",
      "8\n",
      "9\n"
     ]
    }
   ],
   "source": [
    "i = 0\n",
    "while i < 10:\n",
    "    print(i)\n",
    "    i = i + 1\n"
   ]
  },
  {
   "cell_type": "code",
   "execution_count": 9,
   "metadata": {},
   "outputs": [
    {
     "name": "stdout",
     "output_type": "stream",
     "text": [
      "Hello, Tye.\n"
     ]
    }
   ],
   "source": [
    "name = input(\"What is your name? \")\n",
    "print(\"Hello, %s.\" % name)"
   ]
  },
  {
   "cell_type": "markdown",
   "metadata": {},
   "source": [
    "There are many things you can do with Python, a few examples are:\n",
    "- Simple calculations\n",
    "- Data analysis\n",
    "- Machine learning\n",
    "- Web development\n",
    "- Game development\n",
    "- Robotics"
   ]
  },
  {
   "cell_type": "markdown",
   "metadata": {},
   "source": [
    "You can exit the interpreter by typing the following command: quit().\n",
    "(Alternatively, type an end-of-file character (Control-D on Unix, Control-Z on Windows))\n",
    "\n",
    "You can also just close the terminal - not recommended in some circumstances."
   ]
  },
  {
   "cell_type": "markdown",
   "metadata": {},
   "source": [
    "# Advanced items\n",
    "Some moe advanced nice to know items:\n",
    "* Python includes interactive editing, history substitution, and code completion on systems that support GNU Readline\n",
    "* Another way of starting the interpreter is  python -c command [arg] ...\n",
    "    * which executes the statement(s) in command, analogous to the shell’s -c option.Since Python statements often contain spaces or other characters that are special to the shell, it is usually advised to quote command in its entirety.\n",
    "* You can also use modules using python -m module [arg] ...\n",
    "    * This is used when module are made as scripts. The above executes the source file for module as if you had spelled out its full name on the command line.\n",
    "* When a script file is used, it is sometimes useful to be able to run the script and enter interactive mode afterwards. This can be done by passing -i before the script. For more info: https://docs.python.org/3/using/cmdline.html#using-on-general\n",
    "\n",
    "An example for using the command line would be to type the following into the cmdline (i.e. Terminal/Comand Prompt)\n",
    "\n",
    "`python -c print('hello')`\n",
    "`python -c \"import sys; print('Arguments:', sys.argv)\" arg1 Hello arg3 hi`"
   ]
  },
  {
   "cell_type": "markdown",
   "metadata": {},
   "source": [
    "The `python -m` command allows you to run a Python module as a script from the command line. You can use it to execute Python modules that are designed to be run directly, similar to running a script. Here's an example of how to use `python -m` with a simple module:\n",
    "\n",
    "Suppose you have a Python module named `mymodule` that looks like this:\n",
    "\n",
    "---\n",
    "```python\n",
    "# mymodule.py\n",
    "\n",
    "def hello():\n",
    "    print(\"Hello from mymodule!\")\n",
    "\n",
    "if __name__ == \"__main__\":\n",
    "    hello()\n",
    "```\n",
    "---\n",
    "\n",
    "\n",
    "You can run this module using `python -m` as follows:\n",
    "\n",
    "---\n",
    "```bash\n",
    "python -m mymodule\n",
    "```\n",
    "---\n",
    "\n",
    "In this example:\n",
    "\n",
    "- `python -m mymodule` runs the `mymodule` module directly.\n",
    "\n",
    "- The module's `hello` function is executed because of the `if __name__ == \"__main__\":` block, which checks if the module is being run as the main script.\n",
    "\n",
    "When you run the `python -m mymodule` command, it will execute the `hello` function, and you'll see the output:\n",
    "\n",
    "```\n",
    "Hello from mymodule!\n",
    "```\n",
    "\n",
    "This is a basic example of using `python -m` to run a Python module as a script. It's particularly useful when you have modules that contain standalone functionality or scripts that can be invoked from the command line."
   ]
  },
  {
   "cell_type": "markdown",
   "metadata": {},
   "source": [
    "To take users input (-i) you can write something like:\n",
    "\n",
    "`python -ic \"name = input('Enter your name: '); print('Hello, ' + name)\"`\n",
    "\n",
    "(Notice the use of ';' which is required in languages like C all the time, but in Python you can write a script without this and it gets added in automatically when it gets run in the interpreter - however for the example above you must write it in to the terminal)"
   ]
  },
  {
   "cell_type": "markdown",
   "metadata": {},
   "source": [
    "Argument Passing: https://docs.python.org/3/tutorial/interpreter.html#argument-passing\n",
    "\n",
    "Interactive mode: https://docs.python.org/3/tutorial/interpreter.html#interactive-mode\n",
    "\n",
    "\n",
    "Source encoding: https://docs.python.org/3/tutorial/interpreter.html#source-code-encoding\n",
    "(Notmally UTF-8)"
   ]
  },
  {
   "cell_type": "markdown",
   "metadata": {},
   "source": [
    "# An Informal Introduction to Python\n",
    "https://docs.python.org/3/tutorial/introduction.html#an-informal-introduction-to-python\n",
    "\n",
    "Please read along with the above webpage:"
   ]
  },
  {
   "cell_type": "code",
   "execution_count": 10,
   "metadata": {},
   "outputs": [],
   "source": [
    "# this is the first comment\n",
    "spam = 1  # and this is the second comment\n",
    "          # ... and now a third!\n",
    "text = \"# This is not a comment because it's inside quotes.\""
   ]
  },
  {
   "cell_type": "markdown",
   "metadata": {},
   "source": [
    "## Numbers"
   ]
  },
  {
   "cell_type": "code",
   "execution_count": 11,
   "metadata": {},
   "outputs": [
    {
     "data": {
      "text/plain": [
       "4"
      ]
     },
     "execution_count": 11,
     "metadata": {},
     "output_type": "execute_result"
    }
   ],
   "source": [
    "# basic arithmatic\n",
    "2 + 2"
   ]
  },
  {
   "cell_type": "code",
   "execution_count": 13,
   "metadata": {},
   "outputs": [
    {
     "data": {
      "text/plain": [
       "1"
      ]
     },
     "execution_count": 13,
     "metadata": {},
     "output_type": "execute_result"
    }
   ],
   "source": [
    "5-4"
   ]
  },
  {
   "cell_type": "code",
   "execution_count": 12,
   "metadata": {},
   "outputs": [
    {
     "data": {
      "text/plain": [
       "30"
      ]
     },
     "execution_count": 12,
     "metadata": {},
     "output_type": "execute_result"
    }
   ],
   "source": [
    "5*6"
   ]
  },
  {
   "cell_type": "code",
   "execution_count": 14,
   "metadata": {},
   "outputs": [
    {
     "data": {
      "text/plain": [
       "2.0"
      ]
     },
     "execution_count": 14,
     "metadata": {},
     "output_type": "execute_result"
    }
   ],
   "source": [
    "6/3 # division always returns a floating point number"
   ]
  },
  {
   "cell_type": "code",
   "execution_count": 15,
   "metadata": {},
   "outputs": [
    {
     "data": {
      "text/plain": [
       "5.0"
      ]
     },
     "execution_count": 15,
     "metadata": {},
     "output_type": "execute_result"
    }
   ],
   "source": [
    "(50 - 5*6) / 4"
   ]
  },
  {
   "cell_type": "markdown",
   "metadata": {},
   "source": [
    "The integer numbers (e.g. 2, 4, 20) have type int, the ones with a fractional part (e.g. 5.0, 1.6) have type float. We will see more about numeric types later in the tutorial.\n",
    "\n",
    "Division (/) always returns a float. To do floor division and get an integer result you can use the // operator; to calculate the remainder you can use %:"
   ]
  },
  {
   "cell_type": "code",
   "execution_count": 16,
   "metadata": {},
   "outputs": [
    {
     "data": {
      "text/plain": [
       "5.666666666666667"
      ]
     },
     "execution_count": 16,
     "metadata": {},
     "output_type": "execute_result"
    }
   ],
   "source": [
    "17 / 3  # classic division returns a float"
   ]
  },
  {
   "cell_type": "code",
   "execution_count": 17,
   "metadata": {},
   "outputs": [
    {
     "data": {
      "text/plain": [
       "5"
      ]
     },
     "execution_count": 17,
     "metadata": {},
     "output_type": "execute_result"
    }
   ],
   "source": [
    "17 // 3  # floor division discards the fractional part"
   ]
  },
  {
   "cell_type": "code",
   "execution_count": 18,
   "metadata": {},
   "outputs": [
    {
     "data": {
      "text/plain": [
       "2"
      ]
     },
     "execution_count": 18,
     "metadata": {},
     "output_type": "execute_result"
    }
   ],
   "source": [
    "17 % 3  # the % operator returns the remainder of the division"
   ]
  },
  {
   "cell_type": "code",
   "execution_count": 19,
   "metadata": {},
   "outputs": [
    {
     "data": {
      "text/plain": [
       "17"
      ]
     },
     "execution_count": 19,
     "metadata": {},
     "output_type": "execute_result"
    }
   ],
   "source": [
    "5 * 3 + 2  # floored quotient * divisor + remainder"
   ]
  },
  {
   "cell_type": "code",
   "execution_count": 20,
   "metadata": {},
   "outputs": [
    {
     "data": {
      "text/plain": [
       "25"
      ]
     },
     "execution_count": 20,
     "metadata": {},
     "output_type": "execute_result"
    }
   ],
   "source": [
    "5 ** 2  # 5 squared"
   ]
  },
  {
   "cell_type": "code",
   "execution_count": 21,
   "metadata": {},
   "outputs": [
    {
     "data": {
      "text/plain": [
       "900"
      ]
     },
     "execution_count": 21,
     "metadata": {},
     "output_type": "execute_result"
    }
   ],
   "source": [
    "# The equal sign (=) is used to assign a value to a variable.\n",
    "# Afterwards, no result is displayed before the next interactive prompt:\n",
    "width = 20\n",
    "height = 5 * 9\n",
    "width * height"
   ]
  },
  {
   "cell_type": "code",
   "execution_count": 22,
   "metadata": {},
   "outputs": [
    {
     "ename": "NameError",
     "evalue": "name 'n' is not defined",
     "output_type": "error",
     "traceback": [
      "\u001b[1;31m---------------------------------------------------------------------------\u001b[0m",
      "\u001b[1;31mNameError\u001b[0m                                 Traceback (most recent call last)",
      "\u001b[1;32mc:\\Users\\tyewf\\Documents\\GitHub\\notes_on_python\\The_Python_Tutorial\\1_Whetting_your_appetite.ipynb Cell 30\u001b[0m line \u001b[0;36m4\n\u001b[0;32m      <a href='vscode-notebook-cell:/c%3A/Users/tyewf/Documents/GitHub/notes_on_python/The_Python_Tutorial/1_Whetting_your_appetite.ipynb#X45sZmlsZQ%3D%3D?line=0'>1</a>\u001b[0m \u001b[39m# If a variable is not “defined” (assigned a value),\u001b[39;00m\n\u001b[0;32m      <a href='vscode-notebook-cell:/c%3A/Users/tyewf/Documents/GitHub/notes_on_python/The_Python_Tutorial/1_Whetting_your_appetite.ipynb#X45sZmlsZQ%3D%3D?line=1'>2</a>\u001b[0m \u001b[39m#  trying to use it will give you an error:\u001b[39;00m\n\u001b[1;32m----> <a href='vscode-notebook-cell:/c%3A/Users/tyewf/Documents/GitHub/notes_on_python/The_Python_Tutorial/1_Whetting_your_appetite.ipynb#X45sZmlsZQ%3D%3D?line=3'>4</a>\u001b[0m n  \u001b[39m# try to access an undefined variable\u001b[39;00m\n\u001b[0;32m      <a href='vscode-notebook-cell:/c%3A/Users/tyewf/Documents/GitHub/notes_on_python/The_Python_Tutorial/1_Whetting_your_appetite.ipynb#X45sZmlsZQ%3D%3D?line=4'>5</a>\u001b[0m \u001b[39m# Traceback (most recent call last):\u001b[39;00m\n\u001b[0;32m      <a href='vscode-notebook-cell:/c%3A/Users/tyewf/Documents/GitHub/notes_on_python/The_Python_Tutorial/1_Whetting_your_appetite.ipynb#X45sZmlsZQ%3D%3D?line=5'>6</a>\u001b[0m \u001b[39m#   File \"<stdin>\", line 1, in <module>\u001b[39;00m\n\u001b[0;32m      <a href='vscode-notebook-cell:/c%3A/Users/tyewf/Documents/GitHub/notes_on_python/The_Python_Tutorial/1_Whetting_your_appetite.ipynb#X45sZmlsZQ%3D%3D?line=6'>7</a>\u001b[0m \u001b[39m# NameError: name 'n' is not defined\u001b[39;00m\n",
      "\u001b[1;31mNameError\u001b[0m: name 'n' is not defined"
     ]
    }
   ],
   "source": [
    "# If a variable is not “defined” (assigned a value),\n",
    "#  trying to use it will give you an error:\n",
    "\n",
    "n  # try to access an undefined variable\n",
    "# Traceback (most recent call last):\n",
    "#   File \"<stdin>\", line 1, in <module>\n",
    "# NameError: name 'n' is not defined"
   ]
  },
  {
   "cell_type": "markdown",
   "metadata": {},
   "source": [
    "# Text\n",
    "Python can manipulate text (represented by type str, so-called “strings”) as well as numbers.\n",
    "\n",
    "This includes characters “!”, words “rabbit”, names “Paris”, sentences “Got your back.”, etc. “Yay! :)”.\n",
    "\n",
    "They can be enclosed in single quotes ('...') or double quotes (\"...\") with the same result 2."
   ]
  },
  {
   "cell_type": "code",
   "execution_count": 23,
   "metadata": {},
   "outputs": [
    {
     "data": {
      "text/plain": [
       "'spam eggs'"
      ]
     },
     "execution_count": 23,
     "metadata": {},
     "output_type": "execute_result"
    }
   ],
   "source": [
    "'spam eggs'  # single quotes"
   ]
  },
  {
   "cell_type": "code",
   "execution_count": 24,
   "metadata": {},
   "outputs": [
    {
     "data": {
      "text/plain": [
       "'Paris rabbit got your back :)! Yay!'"
      ]
     },
     "execution_count": 24,
     "metadata": {},
     "output_type": "execute_result"
    }
   ],
   "source": [
    "\"Paris rabbit got your back :)! Yay!\"  # double quotes (same as single quotes)"
   ]
  },
  {
   "cell_type": "code",
   "execution_count": null,
   "metadata": {},
   "outputs": [],
   "source": [
    "'1975'  # digits and numerals enclosed in quotes are also strings - important to know as we will see later, just note string representation of numbers are not numbers"
   ]
  },
  {
   "cell_type": "code",
   "execution_count": 25,
   "metadata": {},
   "outputs": [
    {
     "ename": "TypeError",
     "evalue": "can only concatenate str (not \"int\") to str",
     "output_type": "error",
     "traceback": [
      "\u001b[1;31m---------------------------------------------------------------------------\u001b[0m",
      "\u001b[1;31mTypeError\u001b[0m                                 Traceback (most recent call last)",
      "\u001b[1;32mc:\\Users\\tyewf\\Documents\\GitHub\\notes_on_python\\The_Python_Tutorial\\1_Whetting_your_appetite.ipynb Cell 36\u001b[0m line \u001b[0;36m1\n\u001b[1;32m----> <a href='vscode-notebook-cell:/c%3A/Users/tyewf/Documents/GitHub/notes_on_python/The_Python_Tutorial/1_Whetting_your_appetite.ipynb#X55sZmlsZQ%3D%3D?line=0'>1</a>\u001b[0m \u001b[39m'\u001b[39;49m\u001b[39m1975\u001b[39;49m\u001b[39m'\u001b[39;49m \u001b[39m+\u001b[39;49m \u001b[39m5\u001b[39;49m\n",
      "\u001b[1;31mTypeError\u001b[0m: can only concatenate str (not \"int\") to str"
     ]
    }
   ],
   "source": [
    "'1975' + 5"
   ]
  },
  {
   "cell_type": "code",
   "execution_count": 27,
   "metadata": {},
   "outputs": [
    {
     "data": {
      "text/plain": [
       "\"doesn't\""
      ]
     },
     "execution_count": 27,
     "metadata": {},
     "output_type": "execute_result"
    }
   ],
   "source": [
    "# To quote a quote, we need to “escape” it, by preceding it with \\. Alternatively, we can use the other type of quotation marks:\n",
    "'doesn\\'t'  # use \\' to escape the single quote (when using single quotes around the whole text)...\n"
   ]
  },
  {
   "cell_type": "code",
   "execution_count": 28,
   "metadata": {},
   "outputs": [
    {
     "data": {
      "text/plain": [
       "\"doesn't\""
      ]
     },
     "execution_count": 28,
     "metadata": {},
     "output_type": "execute_result"
    }
   ],
   "source": [
    "\"doesn't\"  # ...or use double quotes instead - same result\n",
    "# the above is important to know when adding special characters to strings e.g. \" \" or ' ' or \\n (new line) etc."
   ]
  },
  {
   "cell_type": "code",
   "execution_count": 29,
   "metadata": {},
   "outputs": [
    {
     "data": {
      "text/plain": [
       "'\"Yes,\" they said.'"
      ]
     },
     "execution_count": 29,
     "metadata": {},
     "output_type": "execute_result"
    }
   ],
   "source": [
    "'\"Yes,\" they said.'"
   ]
  },
  {
   "cell_type": "code",
   "execution_count": 31,
   "metadata": {},
   "outputs": [
    {
     "data": {
      "text/plain": [
       "'First line.\\nSecond line.'"
      ]
     },
     "execution_count": 31,
     "metadata": {},
     "output_type": "execute_result"
    }
   ],
   "source": [
    "# In the Python shell, the string definition and output string can look different.\n",
    "# The print() function produces a more readable output, by omitting the enclosing quotes and by printing escaped and \n",
    "# special characters:\n",
    "\n",
    "s = 'First line.\\nSecond line.'  # \\n means newline\n",
    "s  # without print(), special characters are included in the string"
   ]
  },
  {
   "cell_type": "code",
   "execution_count": 32,
   "metadata": {},
   "outputs": [
    {
     "name": "stdout",
     "output_type": "stream",
     "text": [
      "First line.\n",
      "Second line.\n"
     ]
    }
   ],
   "source": [
    "print(s)  # with print(), special characters are interpreted, so \\n produces new line"
   ]
  },
  {
   "cell_type": "code",
   "execution_count": 33,
   "metadata": {},
   "outputs": [
    {
     "name": "stdout",
     "output_type": "stream",
     "text": [
      "C:\\some\n",
      "ame\n"
     ]
    }
   ],
   "source": [
    "# If you don’t want characters prefaced by \\ to be interpreted as special characters, you can use raw strings by adding an r before the first quote:\n",
    "print('C:\\some\\name')  # here \\n means newline!"
   ]
  },
  {
   "cell_type": "code",
   "execution_count": 35,
   "metadata": {},
   "outputs": [
    {
     "name": "stdout",
     "output_type": "stream",
     "text": [
      "C:\\some\\name\n"
     ]
    }
   ],
   "source": [
    "print(r'C:\\some\\name')  # note the r before the quote\n",
    "\n",
    "# This example is good to use when refering to files on your computer - you don't want the \\n to be interpreted as a new line character\n",
    "\n",
    "# There is one subtle aspect to raw strings:\n",
    "# a raw string may not end in an odd number of \\ characters; see the FAQ entry for more information and workarounds.\n",
    "\n",
    "# See: https://docs.python.org/3/faq/programming.html#faq-programming-raw-string-backslash\n",
    "# One work around is to always use double backslash e.g. C:\\\\some\\\\name"
   ]
  },
  {
   "cell_type": "code",
   "execution_count": 41,
   "metadata": {},
   "outputs": [
    {
     "name": "stdout",
     "output_type": "stream",
     "text": [
      "vars is 1\n"
     ]
    }
   ],
   "source": [
    "# f can be used in the print statement for formated string literals (f-strings for short)\n",
    "# These are useful for string interpolation (inserting variables into strings)\n",
    "vars = 1\n",
    "print(f'vars is {vars}')\n",
    "\n",
    "# Note that print('vars is {vars}') doesnt work\n",
    "# nor does print('vars is ' + vars)"
   ]
  },
  {
   "cell_type": "code",
   "execution_count": 42,
   "metadata": {},
   "outputs": [
    {
     "name": "stdout",
     "output_type": "stream",
     "text": [
      "vars is {vars}\n"
     ]
    }
   ],
   "source": [
    "print('vars is {vars}') # doesnt work"
   ]
  },
  {
   "cell_type": "code",
   "execution_count": 43,
   "metadata": {},
   "outputs": [
    {
     "ename": "TypeError",
     "evalue": "can only concatenate str (not \"int\") to str",
     "output_type": "error",
     "traceback": [
      "\u001b[1;31m---------------------------------------------------------------------------\u001b[0m",
      "\u001b[1;31mTypeError\u001b[0m                                 Traceback (most recent call last)",
      "\u001b[1;32mc:\\Users\\tyewf\\Documents\\GitHub\\notes_on_python\\The_Python_Tutorial\\1_Whetting_your_appetite.ipynb Cell 46\u001b[0m line \u001b[0;36m1\n\u001b[1;32m----> <a href='vscode-notebook-cell:/c%3A/Users/tyewf/Documents/GitHub/notes_on_python/The_Python_Tutorial/1_Whetting_your_appetite.ipynb#Y102sZmlsZQ%3D%3D?line=0'>1</a>\u001b[0m \u001b[39mprint\u001b[39m(\u001b[39m'\u001b[39;49m\u001b[39mvars is \u001b[39;49m\u001b[39m'\u001b[39;49m \u001b[39m+\u001b[39;49m \u001b[39mvars\u001b[39;49m) \u001b[39m# doesnt work\u001b[39;00m\n",
      "\u001b[1;31mTypeError\u001b[0m: can only concatenate str (not \"int\") to str"
     ]
    }
   ],
   "source": [
    "print('vars is ' + vars) # doesnt work"
   ]
  },
  {
   "cell_type": "code",
   "execution_count": 44,
   "metadata": {},
   "outputs": [
    {
     "name": "stdout",
     "output_type": "stream",
     "text": [
      "Usage: thingy [OPTIONS]\n",
      "     -h                        Display this usage message\n",
      "     -H hostname               Hostname to connect to\n",
      "\n"
     ]
    }
   ],
   "source": [
    "# String literals can span multiple lines. One way is using triple-quotes: \"\"\"...\"\"\" or '''...'''.\n",
    "# End of lines are automatically included in the string, but it’s possible to prevent this by adding a \\ at the end\n",
    "# of the line. The following example:\n",
    "print(\"\"\"\\\n",
    "All on\\\n",
    "    the same line\\\n",
    " note the additional space needed when joining\\\n",
    "the lines.\n",
    "This jumps\n",
    "to the next line\n",
    "\"\"\")"
   ]
  },
  {
   "cell_type": "code",
   "execution_count": 51,
   "metadata": {},
   "outputs": [
    {
     "data": {
      "text/plain": [
       "'unununium'"
      ]
     },
     "execution_count": 51,
     "metadata": {},
     "output_type": "execute_result"
    }
   ],
   "source": [
    "# Strings can be concatenated (glued together) with the + operator, and repeated with *:\n",
    "\n",
    "# 3 times 'un', followed by 'ium'\n",
    "3 * 'un' + 'ium'"
   ]
  },
  {
   "cell_type": "code",
   "execution_count": 52,
   "metadata": {},
   "outputs": [
    {
     "data": {
      "text/plain": [
       "'Python'"
      ]
     },
     "execution_count": 52,
     "metadata": {},
     "output_type": "execute_result"
    }
   ],
   "source": [
    "# Two or more string literals (i.e. the ones enclosed between quotes) next to each other are automatically concatenated.\n",
    "'Py' 'thon'"
   ]
  },
  {
   "cell_type": "code",
   "execution_count": 54,
   "metadata": {},
   "outputs": [
    {
     "data": {
      "text/plain": [
       "'Put several strings within parentheses to have them joined together.'"
      ]
     },
     "execution_count": 54,
     "metadata": {},
     "output_type": "execute_result"
    }
   ],
   "source": [
    "# This feature is particularly useful when you want to break long strings:\n",
    "text = ('Put several strings within parentheses '\n",
    "        'to have them joined together.')\n",
    "text"
   ]
  },
  {
   "cell_type": "code",
   "execution_count": 55,
   "metadata": {},
   "outputs": [
    {
     "ename": "SyntaxError",
     "evalue": "invalid syntax (883624535.py, line 3)",
     "output_type": "error",
     "traceback": [
      "\u001b[1;36m  Cell \u001b[1;32mIn[55], line 3\u001b[1;36m\u001b[0m\n\u001b[1;33m    prefix 'thon'\u001b[0m\n\u001b[1;37m           ^\u001b[0m\n\u001b[1;31mSyntaxError\u001b[0m\u001b[1;31m:\u001b[0m invalid syntax\n"
     ]
    }
   ],
   "source": [
    "# This only works with two literals though, not with variables or expressions:\n",
    "prefix = 'Py'\n",
    "prefix 'thon'"
   ]
  },
  {
   "cell_type": "code",
   "execution_count": 58,
   "metadata": {},
   "outputs": [
    {
     "data": {
      "text/plain": [
       "'Python'"
      ]
     },
     "execution_count": 58,
     "metadata": {},
     "output_type": "execute_result"
    }
   ],
   "source": [
    "# If you want to concatenate variables or a variable and a literal, use +:\n",
    "prefix = 'Py'\n",
    "prefix + 'thon' # concatenating variable and literal (literal is a string literal)"
   ]
  },
  {
   "cell_type": "code",
   "execution_count": 59,
   "metadata": {},
   "outputs": [
    {
     "data": {
      "text/plain": [
       "'Python'"
      ]
     },
     "execution_count": 59,
     "metadata": {},
     "output_type": "execute_result"
    }
   ],
   "source": [
    "# or:\n",
    "suffix = 'thon'\n",
    "prefix + suffix # concatenation of two variables"
   ]
  },
  {
   "cell_type": "code",
   "execution_count": 60,
   "metadata": {},
   "outputs": [
    {
     "data": {
      "text/plain": [
       "'P'"
      ]
     },
     "execution_count": 60,
     "metadata": {},
     "output_type": "execute_result"
    }
   ],
   "source": [
    "# Strings can be indexed (subscripted), with the first character having index 0.\n",
    "# There is no separate character type; a character is simply a string of size one:\n",
    "word = 'Python'\n",
    "word[0]  # character in position 0"
   ]
  },
  {
   "cell_type": "code",
   "execution_count": 61,
   "metadata": {},
   "outputs": [
    {
     "data": {
      "text/plain": [
       "'n'"
      ]
     },
     "execution_count": 61,
     "metadata": {},
     "output_type": "execute_result"
    }
   ],
   "source": [
    "word[5]  # character in position 5"
   ]
  },
  {
   "cell_type": "code",
   "execution_count": 62,
   "metadata": {},
   "outputs": [
    {
     "data": {
      "text/plain": [
       "'n'"
      ]
     },
     "execution_count": 62,
     "metadata": {},
     "output_type": "execute_result"
    }
   ],
   "source": [
    "# Indices may also be negative numbers, to start counting from the right:\n",
    "word[-1]  # last character"
   ]
  },
  {
   "cell_type": "code",
   "execution_count": 63,
   "metadata": {},
   "outputs": [
    {
     "data": {
      "text/plain": [
       "'o'"
      ]
     },
     "execution_count": 63,
     "metadata": {},
     "output_type": "execute_result"
    }
   ],
   "source": [
    "word[-2]  # second-last character"
   ]
  },
  {
   "cell_type": "code",
   "execution_count": 64,
   "metadata": {},
   "outputs": [
    {
     "data": {
      "text/plain": [
       "'P'"
      ]
     },
     "execution_count": 64,
     "metadata": {},
     "output_type": "execute_result"
    }
   ],
   "source": [
    "word[-6]"
   ]
  },
  {
   "cell_type": "code",
   "execution_count": 65,
   "metadata": {},
   "outputs": [
    {
     "ename": "IndexError",
     "evalue": "string index out of range",
     "output_type": "error",
     "traceback": [
      "\u001b[1;31m---------------------------------------------------------------------------\u001b[0m",
      "\u001b[1;31mIndexError\u001b[0m                                Traceback (most recent call last)",
      "\u001b[1;32mc:\\Users\\tyewf\\Documents\\GitHub\\notes_on_python\\The_Python_Tutorial\\1_Whetting_your_appetite.ipynb Cell 59\u001b[0m line \u001b[0;36m1\n\u001b[1;32m----> <a href='vscode-notebook-cell:/c%3A/Users/tyewf/Documents/GitHub/notes_on_python/The_Python_Tutorial/1_Whetting_your_appetite.ipynb#Y116sZmlsZQ%3D%3D?line=0'>1</a>\u001b[0m word[\u001b[39m-\u001b[39;49m\u001b[39m7\u001b[39;49m]\n",
      "\u001b[1;31mIndexError\u001b[0m: string index out of range"
     ]
    }
   ],
   "source": [
    "word[-7] # cant go past the first character"
   ]
  },
  {
   "cell_type": "code",
   "execution_count": 67,
   "metadata": {},
   "outputs": [
    {
     "data": {
      "text/plain": [
       "'tho'"
      ]
     },
     "execution_count": 67,
     "metadata": {},
     "output_type": "execute_result"
    }
   ],
   "source": [
    "# In addition to indexing, slicing is also supported.\n",
    "# While indexing is used to obtain individual characters, slicing allows you to obtain a substring:\n",
    "word[0:2]  # characters from position 0 (included) to 2 (excluded)\n",
    "word[2:5]  # characters from position 2 (included) to 5 (excluded)"
   ]
  },
  {
   "cell_type": "code",
   "execution_count": 68,
   "metadata": {},
   "outputs": [
    {
     "data": {
      "text/plain": [
       "'on'"
      ]
     },
     "execution_count": 68,
     "metadata": {},
     "output_type": "execute_result"
    }
   ],
   "source": [
    "# Slice indices have useful defaults; an omitted first index defaults to zero, an omitted second index defaults to the size of the string being sliced.\n",
    "word[:2]   # character from the beginning to position 2 (excluded)\n",
    "word[4:]   # characters from position 4 (included) to the end\n",
    "word[-2:]  # characters from the second-last (included) to the end"
   ]
  },
  {
   "cell_type": "code",
   "execution_count": 69,
   "metadata": {},
   "outputs": [
    {
     "data": {
      "text/plain": [
       "'Python'"
      ]
     },
     "execution_count": 69,
     "metadata": {},
     "output_type": "execute_result"
    }
   ],
   "source": [
    "# Note how the start is always included, and the end always excluded.\n",
    "# This makes sure that s[:i] + s[i:] is always equal to s:\n",
    "word[:2] + word[2:]\n",
    "word[:4] + word[4:]"
   ]
  },
  {
   "cell_type": "code",
   "execution_count": 70,
   "metadata": {},
   "outputs": [
    {
     "ename": "IndexError",
     "evalue": "string index out of range",
     "output_type": "error",
     "traceback": [
      "\u001b[1;31m---------------------------------------------------------------------------\u001b[0m",
      "\u001b[1;31mIndexError\u001b[0m                                Traceback (most recent call last)",
      "\u001b[1;32mc:\\Users\\tyewf\\Documents\\GitHub\\notes_on_python\\The_Python_Tutorial\\1_Whetting_your_appetite.ipynb Cell 63\u001b[0m line \u001b[0;36m2\n\u001b[0;32m      <a href='vscode-notebook-cell:/c%3A/Users/tyewf/Documents/GitHub/notes_on_python/The_Python_Tutorial/1_Whetting_your_appetite.ipynb#Y123sZmlsZQ%3D%3D?line=0'>1</a>\u001b[0m \u001b[39m# Attempting to use an index that is too large will result in an error:\u001b[39;00m\n\u001b[1;32m----> <a href='vscode-notebook-cell:/c%3A/Users/tyewf/Documents/GitHub/notes_on_python/The_Python_Tutorial/1_Whetting_your_appetite.ipynb#Y123sZmlsZQ%3D%3D?line=1'>2</a>\u001b[0m word[\u001b[39m42\u001b[39;49m]  \u001b[39m# the word only has 6 characters\u001b[39;00m\n",
      "\u001b[1;31mIndexError\u001b[0m: string index out of range"
     ]
    }
   ],
   "source": [
    "# Attempting to use an index that is too large will result in an error:\n",
    "word[42]  # the word only has 6 characters"
   ]
  },
  {
   "cell_type": "code",
   "execution_count": 72,
   "metadata": {},
   "outputs": [
    {
     "data": {
      "text/plain": [
       "'on'"
      ]
     },
     "execution_count": 72,
     "metadata": {},
     "output_type": "execute_result"
    }
   ],
   "source": [
    "# However, out of range slice indexes are handled gracefully when used for slicing:\n",
    "word[4:42]\n"
   ]
  },
  {
   "cell_type": "code",
   "execution_count": 73,
   "metadata": {},
   "outputs": [
    {
     "data": {
      "text/plain": [
       "''"
      ]
     },
     "execution_count": 73,
     "metadata": {},
     "output_type": "execute_result"
    }
   ],
   "source": [
    "word[42:]"
   ]
  },
  {
   "cell_type": "code",
   "execution_count": null,
   "metadata": {},
   "outputs": [],
   "source": [
    "# Python strings cannot be changed — they are immutable.\n",
    "# Therefore, assigning to an indexed position in the string results in an error:\n",
    "\n",
    "word[0] = 'J'\n",
    "# Traceback (most recent call last):\n",
    "#   File \"<stdin>\", line 1, in <module>\n",
    "# TypeError: 'str' object does not support item assignment\n",
    "\n",
    "word[2:] = 'py'\n",
    "# Traceback (most recent call last):\n",
    "#   File \"<stdin>\", line 1, in <module>\n",
    "# TypeError: 'str' object does not support item assignment"
   ]
  },
  {
   "cell_type": "code",
   "execution_count": 74,
   "metadata": {},
   "outputs": [
    {
     "data": {
      "text/plain": [
       "'Pypy'"
      ]
     },
     "execution_count": 74,
     "metadata": {},
     "output_type": "execute_result"
    }
   ],
   "source": [
    "# If you need a different string, you should create a new one:\n",
    "'J' + word[1:] # Jython\n",
    "word[:2] + 'py' #Pypy\n"
   ]
  },
  {
   "cell_type": "code",
   "execution_count": 75,
   "metadata": {},
   "outputs": [
    {
     "data": {
      "text/plain": [
       "34"
      ]
     },
     "execution_count": 75,
     "metadata": {},
     "output_type": "execute_result"
    }
   ],
   "source": [
    "# The built-in function len() returns the length of a string:\n",
    "s = 'supercalifragilisticexpialidocious'\n",
    "len(s)"
   ]
  },
  {
   "cell_type": "markdown",
   "metadata": {},
   "source": [
    "See also\n",
    "Text Sequence Type — str: https://docs.python.org/3/library/stdtypes.html#textseq\n",
    "Strings are examples of sequence types, and support the common operations supported by such types.\n",
    "\n",
    "String Methods: https://docs.python.org/3/library/stdtypes.html#string-methods\n",
    "Strings support a large number of methods for basic transformations and searching.\n",
    "\n",
    "Formatted string literals: https://docs.python.org/3/reference/lexical_analysis.html#f-strings\n",
    "String literals that have embedded expressions.\n",
    "\n",
    "Format String Syntax: https://docs.python.org/3/library/string.html#formatstrings\n",
    "Information about string formatting with str.format().\n",
    "\n",
    "printf-style String Formatting: https://docs.python.org/3/library/stdtypes.html#old-string-formatting\n",
    "The old formatting operations invoked when strings are the left operand of the % operator are described in more detail here."
   ]
  },
  {
   "cell_type": "markdown",
   "metadata": {},
   "source": [
    "### Lists\n",
    "Python knows a number of compound data types, used to group together other values. The most versatile is the list, which can be written as a list of comma-separated values (items) between square brackets. Lists might contain items of different types, but usually the items all have the same type."
   ]
  },
  {
   "cell_type": "code",
   "execution_count": 76,
   "metadata": {},
   "outputs": [
    {
     "data": {
      "text/plain": [
       "[1, 4, 9, 16, 25]"
      ]
     },
     "execution_count": 76,
     "metadata": {},
     "output_type": "execute_result"
    }
   ],
   "source": [
    "squares = [1, 4, 9, 16, 25]\n",
    "squares"
   ]
  },
  {
   "cell_type": "code",
   "execution_count": 77,
   "metadata": {},
   "outputs": [
    {
     "data": {
      "text/plain": [
       "[9, 16, 25]"
      ]
     },
     "execution_count": 77,
     "metadata": {},
     "output_type": "execute_result"
    }
   ],
   "source": [
    "# Like strings (and all other built-in sequence types), lists can be indexed and sliced:\n",
    "\n",
    "# indexing returns the item\n",
    "squares[0]  # 1\n",
    "squares[-1] # 25\n",
    "# slicing returns a new list\n",
    "squares[-3:] # [9, 16, 25]\n"
   ]
  },
  {
   "cell_type": "code",
   "execution_count": null,
   "metadata": {},
   "outputs": [],
   "source": [
    "# All slice operations return a new list containing the requested elements.\n",
    "# This means that the following slice returns a shallow copy of the list:\n",
    "squares[:]\n",
    "\n",
    "# Shallow vs deep copy: https://docs.python.org/3/library/copy.html#shallow-vs-deep-copy"
   ]
  },
  {
   "cell_type": "code",
   "execution_count": 78,
   "metadata": {},
   "outputs": [
    {
     "data": {
      "text/plain": [
       "[1, 4, 9, 16, 25, 36, 49, 64, 81, 100]"
      ]
     },
     "execution_count": 78,
     "metadata": {},
     "output_type": "execute_result"
    }
   ],
   "source": [
    "# Lists also support operations like concatenation:\n",
    "squares + [36, 49, 64, 81, 100]"
   ]
  },
  {
   "cell_type": "code",
   "execution_count": 79,
   "metadata": {},
   "outputs": [
    {
     "data": {
      "text/plain": [
       "[1, 8, 27, 64, 125]"
      ]
     },
     "execution_count": 79,
     "metadata": {},
     "output_type": "execute_result"
    }
   ],
   "source": [
    "# Unlike strings, which are immutable, lists are a mutable type, i.e. it is possible to change their content:\n",
    "cubes = [1, 8, 27, 65, 125]  # something's wrong here, 4 ** 3 the cube of 4 is 64, not 65!\n",
    "cubes[3] = 64  # replace the wrong value\n",
    "cubes"
   ]
  },
  {
   "cell_type": "code",
   "execution_count": 83,
   "metadata": {},
   "outputs": [
    {
     "name": "stdout",
     "output_type": "stream",
     "text": [
      "5\n"
     ]
    },
    {
     "ename": "TypeError",
     "evalue": "'str' object does not support item assignment",
     "output_type": "error",
     "traceback": [
      "\u001b[1;31m---------------------------------------------------------------------------\u001b[0m",
      "\u001b[1;31mTypeError\u001b[0m                                 Traceback (most recent call last)",
      "\u001b[1;32mc:\\Users\\tyewf\\Documents\\GitHub\\notes_on_python\\The_Python_Tutorial\\1_Whetting_your_appetite.ipynb Cell 76\u001b[0m line \u001b[0;36m8\n\u001b[0;32m      <a href='vscode-notebook-cell:/c%3A/Users/tyewf/Documents/GitHub/notes_on_python/The_Python_Tutorial/1_Whetting_your_appetite.ipynb#Y142sZmlsZQ%3D%3D?line=5'>6</a>\u001b[0m cubes_string \u001b[39m=\u001b[39m \u001b[39m'\u001b[39m\u001b[39m1, 8, 27, 65, 125\u001b[39m\u001b[39m'\u001b[39m\n\u001b[0;32m      <a href='vscode-notebook-cell:/c%3A/Users/tyewf/Documents/GitHub/notes_on_python/The_Python_Tutorial/1_Whetting_your_appetite.ipynb#Y142sZmlsZQ%3D%3D?line=6'>7</a>\u001b[0m \u001b[39mprint\u001b[39m(cubes_string[\u001b[39m11\u001b[39m]) \u001b[39m# we want to replace the 5 from 65 with a 4\u001b[39;00m\n\u001b[1;32m----> <a href='vscode-notebook-cell:/c%3A/Users/tyewf/Documents/GitHub/notes_on_python/The_Python_Tutorial/1_Whetting_your_appetite.ipynb#Y142sZmlsZQ%3D%3D?line=7'>8</a>\u001b[0m cubes_string[\u001b[39m11\u001b[39;49m] \u001b[39m=\u001b[39m \u001b[39m4\u001b[39m \u001b[39m# this would not work\u001b[39;00m\n\u001b[0;32m      <a href='vscode-notebook-cell:/c%3A/Users/tyewf/Documents/GitHub/notes_on_python/The_Python_Tutorial/1_Whetting_your_appetite.ipynb#Y142sZmlsZQ%3D%3D?line=8'>9</a>\u001b[0m \u001b[39m#= 64 # this would not work\u001b[39;00m\n",
      "\u001b[1;31mTypeError\u001b[0m: 'str' object does not support item assignment"
     ]
    }
   ],
   "source": [
    "# to re-iterate the difference between mutable and immutable types:\n",
    "# immutable types cannot be changed after they are created\n",
    "# mutable types can be changed after they are created\n",
    "\n",
    "# So if the list above was a string, we would not be able to change the value of 65 to 64\n",
    "cubes_string = '1, 8, 27, 65, 125'\n",
    "print(cubes_string[11]) # we want to replace the 5 from 65 with a 4\n",
    "cubes_string[11] = 4 # this would not work"
   ]
  },
  {
   "cell_type": "code",
   "execution_count": 84,
   "metadata": {},
   "outputs": [
    {
     "data": {
      "text/plain": [
       "[1, 8, 27, 64, 125, 216, 343]"
      ]
     },
     "execution_count": 84,
     "metadata": {},
     "output_type": "execute_result"
    }
   ],
   "source": [
    "# You can also add new items at the end of the list, by using the list.append() method (we will see more about methods later):\n",
    "cubes.append(216)  # add the cube of 6\n",
    "cubes.append(7 ** 3)  # and the cube of 7\n",
    "cubes"
   ]
  },
  {
   "cell_type": "code",
   "execution_count": 85,
   "metadata": {},
   "outputs": [
    {
     "data": {
      "text/plain": [
       "['a', 'b', 'C', 'D', 'E', 'f', 'g']"
      ]
     },
     "execution_count": 85,
     "metadata": {},
     "output_type": "execute_result"
    }
   ],
   "source": [
    "# Assignment to slices is also possible, and this can even change the size of the list or clear it entirely:\n",
    "\n",
    "letters = ['a', 'b', 'c', 'd', 'e', 'f', 'g']\n",
    "letters[2:5] = ['C', 'D', 'E'] # replace some values\n",
    "letters"
   ]
  },
  {
   "cell_type": "code",
   "execution_count": 86,
   "metadata": {},
   "outputs": [
    {
     "data": {
      "text/plain": [
       "['a', 'b', 'f', 'g']"
      ]
     },
     "execution_count": 86,
     "metadata": {},
     "output_type": "execute_result"
    }
   ],
   "source": [
    "# now remove them\n",
    "letters[2:5] = []\n",
    "letters\n",
    "# ['a', 'b', 'f', 'g']"
   ]
  },
  {
   "cell_type": "code",
   "execution_count": null,
   "metadata": {},
   "outputs": [],
   "source": [
    "# clear the list by replacing all the elements with an empty list\n",
    "letters[:] = []\n",
    "letters"
   ]
  },
  {
   "cell_type": "code",
   "execution_count": null,
   "metadata": {},
   "outputs": [],
   "source": [
    "# The built-in function len() also applies to lists:\n",
    "letters = ['a', 'b', 'c', 'd']\n",
    "len(letters)"
   ]
  },
  {
   "cell_type": "code",
   "execution_count": 87,
   "metadata": {},
   "outputs": [
    {
     "data": {
      "text/plain": [
       "3"
      ]
     },
     "execution_count": 87,
     "metadata": {},
     "output_type": "execute_result"
    }
   ],
   "source": [
    "# It is possible to nest lists (create lists containing other lists), for example:\n",
    "a = ['a', 'b', 'c']\n",
    "n = [1, 2, 3]\n",
    "x = [a, n]\n",
    "x\n",
    "# [['a', 'b', 'c'], [1, 2, 3]]\n",
    "x[0]\n",
    "# ['a', 'b', 'c']\n",
    "x[1][2]\n",
    "# 3"
   ]
  },
  {
   "cell_type": "markdown",
   "metadata": {},
   "source": [
    "# First Steps Towards Programming\n",
    "Of course, we can use Python for more complicated tasks than adding two and two together.\n",
    "\n",
    "For instance, we can write an initial sub-sequence of the Fibonacci series as follows:"
   ]
  },
  {
   "cell_type": "code",
   "execution_count": 88,
   "metadata": {},
   "outputs": [
    {
     "name": "stdout",
     "output_type": "stream",
     "text": [
      "0\n",
      "1\n",
      "1\n",
      "2\n",
      "3\n",
      "5\n",
      "8\n"
     ]
    }
   ],
   "source": [
    "# Fibonacci series:\n",
    "# the sum of two elements defines the next\n",
    "a, b = 0, 1\n",
    "while a < 10:\n",
    "    print(a)\n",
    "    a, b = b, a+b\n",
    "\n",
    "# For details about this code view: https://docs.python.org/3/tutorial/introduction.html#first-steps-towards-programming"
   ]
  },
  {
   "cell_type": "markdown",
   "metadata": {},
   "source": [
    "# More Control Flow Tools\n",
    "Reference: https://docs.python.org/3/tutorial/controlflow.html\n",
    "\n"
   ]
  },
  {
   "cell_type": "code",
   "execution_count": 89,
   "metadata": {},
   "outputs": [
    {
     "name": "stdout",
     "output_type": "stream",
     "text": [
      "More\n"
     ]
    }
   ],
   "source": [
    "## if Statements\n",
    "# Perhaps the most well-known statement type is the if statement. For example:\n",
    "\n",
    "x = int(input(\"Please enter an integer: \"))\n",
    "\n",
    "if x < 0:\n",
    "    x = 0\n",
    "    print('Negative changed to zero')\n",
    "elif x == 0:\n",
    "    print('Zero')\n",
    "elif x == 1:\n",
    "    print('Single')\n",
    "else:\n",
    "    print('More')"
   ]
  },
  {
   "cell_type": "code",
   "execution_count": 90,
   "metadata": {},
   "outputs": [
    {
     "name": "stdout",
     "output_type": "stream",
     "text": [
      "cat 3\n",
      "window 6\n",
      "defenestrate 12\n"
     ]
    }
   ],
   "source": [
    "## for Statements\n",
    "# The for statement in Python differs a bit from what you may be used to in C or Pascal. Rather than always iterating\n",
    "# over an arithmetic progression of numbers (like in Pascal), or giving the user the ability to define both the \n",
    "# iteration step and halting condition (as C), Python’s for statement iterates over the items of any sequence (a list\n",
    "# or a string), in the order that they appear in the sequence. For example (no pun intended):\n",
    "\n",
    "# Measure some strings:\n",
    "words = ['cat', 'window', 'defenestrate']\n",
    "for w in words:\n",
    "    print(w, len(w))"
   ]
  },
  {
   "cell_type": "code",
   "execution_count": 96,
   "metadata": {},
   "outputs": [
    {
     "data": {
      "text/plain": [
       "{'Hans': 'active', '景太郎': 'active'}"
      ]
     },
     "execution_count": 96,
     "metadata": {},
     "output_type": "execute_result"
    }
   ],
   "source": [
    "# Code that modifies a collection while iterating over that same collection can be tricky to get right. Instead, it is\n",
    "# usually more straight-forward to loop over a copy of the collection or to create a new collection:\n",
    "\n",
    "# Create a sample collection\n",
    "users = {'Hans': 'active', 'Éléonore': 'inactive', '景太郎': 'active'}\n",
    "\n",
    "# Strategy:  Iterate over a copy\n",
    "for user, status in users.copy().items():\n",
    "    if status == 'inactive':\n",
    "        del users[user]\n",
    "\n",
    "users"
   ]
  },
  {
   "cell_type": "code",
   "execution_count": 98,
   "metadata": {},
   "outputs": [
    {
     "ename": "RuntimeError",
     "evalue": "dictionary changed size during iteration",
     "output_type": "error",
     "traceback": [
      "\u001b[1;31m---------------------------------------------------------------------------\u001b[0m",
      "\u001b[1;31mRuntimeError\u001b[0m                              Traceback (most recent call last)",
      "\u001b[1;32mc:\\Users\\tyewf\\Documents\\GitHub\\notes_on_python\\The_Python_Tutorial\\1_Whetting_your_appetite.ipynb Cell 89\u001b[0m line \u001b[0;36m5\n\u001b[0;32m      <a href='vscode-notebook-cell:/c%3A/Users/tyewf/Documents/GitHub/notes_on_python/The_Python_Tutorial/1_Whetting_your_appetite.ipynb#Y165sZmlsZQ%3D%3D?line=1'>2</a>\u001b[0m users \u001b[39m=\u001b[39m {\u001b[39m'\u001b[39m\u001b[39mHans\u001b[39m\u001b[39m'\u001b[39m: \u001b[39m'\u001b[39m\u001b[39mactive\u001b[39m\u001b[39m'\u001b[39m, \u001b[39m'\u001b[39m\u001b[39mÉléonore\u001b[39m\u001b[39m'\u001b[39m: \u001b[39m'\u001b[39m\u001b[39minactive\u001b[39m\u001b[39m'\u001b[39m, \u001b[39m'\u001b[39m\u001b[39m景太郎\u001b[39m\u001b[39m'\u001b[39m: \u001b[39m'\u001b[39m\u001b[39mactive\u001b[39m\u001b[39m'\u001b[39m}\n\u001b[0;32m      <a href='vscode-notebook-cell:/c%3A/Users/tyewf/Documents/GitHub/notes_on_python/The_Python_Tutorial/1_Whetting_your_appetite.ipynb#Y165sZmlsZQ%3D%3D?line=3'>4</a>\u001b[0m \u001b[39m# Strategy:  Iterate over a copy\u001b[39;00m\n\u001b[1;32m----> <a href='vscode-notebook-cell:/c%3A/Users/tyewf/Documents/GitHub/notes_on_python/The_Python_Tutorial/1_Whetting_your_appetite.ipynb#Y165sZmlsZQ%3D%3D?line=4'>5</a>\u001b[0m \u001b[39mfor\u001b[39;00m user, status \u001b[39min\u001b[39;00m users\u001b[39m.\u001b[39mitems():\n\u001b[0;32m      <a href='vscode-notebook-cell:/c%3A/Users/tyewf/Documents/GitHub/notes_on_python/The_Python_Tutorial/1_Whetting_your_appetite.ipynb#Y165sZmlsZQ%3D%3D?line=5'>6</a>\u001b[0m     \u001b[39mif\u001b[39;00m status \u001b[39m==\u001b[39m \u001b[39m'\u001b[39m\u001b[39minactive\u001b[39m\u001b[39m'\u001b[39m:\n\u001b[0;32m      <a href='vscode-notebook-cell:/c%3A/Users/tyewf/Documents/GitHub/notes_on_python/The_Python_Tutorial/1_Whetting_your_appetite.ipynb#Y165sZmlsZQ%3D%3D?line=6'>7</a>\u001b[0m         \u001b[39mdel\u001b[39;00m users[user]\n",
      "\u001b[1;31mRuntimeError\u001b[0m: dictionary changed size during iteration"
     ]
    }
   ],
   "source": [
    "# Create a sample collection\n",
    "users = {'Hans': 'active', 'Éléonore': 'inactive', '景太郎': 'active'}\n",
    "\n",
    "# Strategy:  Iterate over a copy\n",
    "for user, status in users.items():\n",
    "    if status == 'inactive':\n",
    "        del users[user]\n",
    "\n",
    "# Error as the dictionary is changed during the iteration"
   ]
  },
  {
   "cell_type": "code",
   "execution_count": 101,
   "metadata": {},
   "outputs": [
    {
     "data": {
      "text/plain": [
       "dict_items([('Hans', 'active'), ('Éléonore', 'inactive'), ('景太郎', 'active')])"
      ]
     },
     "execution_count": 101,
     "metadata": {},
     "output_type": "execute_result"
    }
   ],
   "source": [
    "# to udnerstand the '.items' part:\n",
    "users = {'Hans': 'active', 'Éléonore': 'inactive', '景太郎': 'active'}\n",
    "users.items()"
   ]
  },
  {
   "cell_type": "code",
   "execution_count": 103,
   "metadata": {},
   "outputs": [
    {
     "data": {
      "text/plain": [
       "{'Hans': 'active', '景太郎': 'active'}"
      ]
     },
     "execution_count": 103,
     "metadata": {},
     "output_type": "execute_result"
    }
   ],
   "source": [
    "# Strategy:  Create a new collection\n",
    "users = {'Hans': 'active', 'Éléonore': 'inactive', '景太郎': 'active'}\n",
    "active_users = {}\n",
    "for user, status in users.items():\n",
    "    if status == 'active':\n",
    "        active_users[user] = status # notice how user and status are added to the new dictionary\n",
    "\n",
    "active_users"
   ]
  },
  {
   "cell_type": "code",
   "execution_count": 106,
   "metadata": {},
   "outputs": [
    {
     "name": "stdout",
     "output_type": "stream",
     "text": [
      "0\n",
      "1\n",
      "2\n",
      "3\n",
      "4\n"
     ]
    }
   ],
   "source": [
    "# The range() Function\n",
    "# If you do need to iterate over a sequence of numbers, the built-in function range() comes in handy. It generates\n",
    "# arithmetic progressions:\n",
    "range(5)\n",
    "\n",
    "for i in range(5):\n",
    "    print(i)"
   ]
  },
  {
   "cell_type": "code",
   "execution_count": null,
   "metadata": {},
   "outputs": [],
   "source": [
    "list(range(5, 10)) # [5, 6, 7, 8, 9]\n",
    "\n",
    "list(range(0, 10, 3)) # [0, 3, 6, 9]\n",
    "\n",
    "list(range(-10, -100, -30)) # [-10, -40, -70]"
   ]
  },
  {
   "cell_type": "code",
   "execution_count": 112,
   "metadata": {},
   "outputs": [
    {
     "name": "stdout",
     "output_type": "stream",
     "text": [
      "0 Mary\n",
      "1 had\n",
      "2 a\n",
      "3 little\n",
      "4 lamb\n"
     ]
    }
   ],
   "source": [
    "# To iterate over the indices of a sequence, you can combine range() and len() as follows:\n",
    "\n",
    "a = ['Mary', 'had', 'a', 'little', 'lamb']\n",
    "for i in range(len(a)):\n",
    "    print(i, a[i])"
   ]
  },
  {
   "cell_type": "code",
   "execution_count": 115,
   "metadata": {},
   "outputs": [
    {
     "name": "stdout",
     "output_type": "stream",
     "text": [
      "0 Mary\n",
      "1 had\n",
      "2 a\n",
      "3 little\n",
      "4 lamb\n"
     ]
    }
   ],
   "source": [
    "# When looping through a sequence, the position index and corresponding value can be retrieved at the same time using\n",
    "# the enumerate() function.\n",
    "for i, v in enumerate(a):\n",
    "    print(i, v)"
   ]
  },
  {
   "cell_type": "code",
   "execution_count": 116,
   "metadata": {},
   "outputs": [
    {
     "name": "stdout",
     "output_type": "stream",
     "text": [
      "(0, 'Mary')\n",
      "(1, 'had')\n",
      "(2, 'a')\n",
      "(3, 'little')\n",
      "(4, 'lamb')\n"
     ]
    }
   ],
   "source": [
    "# playing around and only using i\n",
    "for i in enumerate(a):\n",
    "    print(i)"
   ]
  },
  {
   "cell_type": "code",
   "execution_count": 118,
   "metadata": {},
   "outputs": [
    {
     "name": "stdout",
     "output_type": "stream",
     "text": [
      "(0, 'Mary')\n",
      "(1, 'had')\n",
      "(2, 'a')\n",
      "(3, 'little')\n",
      "(4, 'lamb')\n"
     ]
    }
   ],
   "source": [
    "# playing around and only using v\n",
    "for v in enumerate(a):\n",
    "    print(v) # notice the change to print v not i"
   ]
  },
  {
   "cell_type": "code",
   "execution_count": 120,
   "metadata": {},
   "outputs": [
    {
     "name": "stdout",
     "output_type": "stream",
     "text": [
      "(4, 'lamb')\n",
      "(4, 'lamb')\n",
      "(4, 'lamb')\n",
      "(4, 'lamb')\n",
      "(4, 'lamb')\n"
     ]
    }
   ],
   "source": [
    "# playing around and only using v\n",
    "for v in enumerate(a):\n",
    "    print(i) # notice if you accidently left the print to use i"
   ]
  },
  {
   "cell_type": "code",
   "execution_count": 119,
   "metadata": {},
   "outputs": [
    {
     "ename": "ValueError",
     "evalue": "not enough values to unpack (expected 3, got 2)",
     "output_type": "error",
     "traceback": [
      "\u001b[1;31m---------------------------------------------------------------------------\u001b[0m",
      "\u001b[1;31mValueError\u001b[0m                                Traceback (most recent call last)",
      "\u001b[1;32mc:\\Users\\tyewf\\Documents\\GitHub\\notes_on_python\\The_Python_Tutorial\\1_Whetting_your_appetite.ipynb Cell 98\u001b[0m line \u001b[0;36m1\n\u001b[1;32m----> <a href='vscode-notebook-cell:/c%3A/Users/tyewf/Documents/GitHub/notes_on_python/The_Python_Tutorial/1_Whetting_your_appetite.ipynb#Y206sZmlsZQ%3D%3D?line=0'>1</a>\u001b[0m \u001b[39mfor\u001b[39;00m a, b, c \u001b[39min\u001b[39;00m \u001b[39menumerate\u001b[39m(a):\n\u001b[0;32m      <a href='vscode-notebook-cell:/c%3A/Users/tyewf/Documents/GitHub/notes_on_python/The_Python_Tutorial/1_Whetting_your_appetite.ipynb#Y206sZmlsZQ%3D%3D?line=1'>2</a>\u001b[0m     \u001b[39mprint\u001b[39m(v)\n",
      "\u001b[1;31mValueError\u001b[0m: not enough values to unpack (expected 3, got 2)"
     ]
    }
   ],
   "source": [
    "for a, b, c in enumerate(a):\n",
    "    print(v)"
   ]
  },
  {
   "cell_type": "code",
   "execution_count": 122,
   "metadata": {},
   "outputs": [
    {
     "data": {
      "text/plain": [
       "range(0, 10)"
      ]
     },
     "execution_count": 122,
     "metadata": {},
     "output_type": "execute_result"
    }
   ],
   "source": [
    "# A strange thing happens if you just print a range:\n",
    "range(10) # range(0, 10)"
   ]
  },
  {
   "cell_type": "code",
   "execution_count": 123,
   "metadata": {},
   "outputs": [
    {
     "data": {
      "text/plain": [
       "6"
      ]
     },
     "execution_count": 123,
     "metadata": {},
     "output_type": "execute_result"
    }
   ],
   "source": [
    "# In many ways the object returned by range() behaves as if it is a list, but in fact it isn’t. It is an object which\n",
    "# returns the successive items of the desired sequence when you iterate over it, but it doesn’t really make the list,\n",
    "# thus saving space.\n",
    "\n",
    "# We say such an object is iterable, that is, suitable as a target for functions and constructs that expect something\n",
    "# from which they can obtain successive items until the supply is exhausted. We have seen that the for statement is \n",
    "# such a construct, while an example of a function that takes an iterable is sum():\n",
    "\n",
    "sum(range(4))  # 0 + 1 + 2 + 3 = 6"
   ]
  },
  {
   "cell_type": "markdown",
   "metadata": {},
   "source": [
    "# break and continue Statements, and else Clauses on Loops\n",
    "The break statement breaks out of the innermost enclosing for or while loop.\n",
    "\n",
    "A for or while loop can include an else clause.\n",
    "\n",
    "In a for loop, the else clause is executed after the loop reaches its final iteration.\n",
    "\n",
    "In a while loop, it’s executed after the loop’s condition becomes false.\n",
    "\n",
    "In either kind of loop, the else clause is not executed if the loop was terminated by a break.\n",
    "\n",
    "This is exemplified in the following for loop, which searches for prime numbers:\n"
   ]
  },
  {
   "cell_type": "code",
   "execution_count": 124,
   "metadata": {},
   "outputs": [
    {
     "name": "stdout",
     "output_type": "stream",
     "text": [
      "2 is a prime number\n",
      "3 is a prime number\n",
      "4 equals 2 * 2\n",
      "5 is a prime number\n",
      "6 equals 2 * 3\n",
      "7 is a prime number\n",
      "8 equals 2 * 4\n",
      "9 equals 3 * 3\n"
     ]
    }
   ],
   "source": [
    "for n in range(2, 10):\n",
    "    for x in range(2, n):\n",
    "        if n % x == 0:\n",
    "            print(n, 'equals', x, '*', n//x)\n",
    "            break\n",
    "    else:\n",
    "        # loop fell through without finding a factor\n",
    "        print(n, 'is a prime number')\n",
    "\n",
    "        # (Yes, this is the correct code. Look closely: the else clause belongs to the for loop, not the if statement.)\n",
    "\n",
    "# When used with a loop, the else clause has more in common with the else clause of a try statement than it does with\n",
    "# that of if statements: a try statement’s else clause runs when no exception occurs, and a loop’s else clause runs \n",
    "# when no break occurs. For more on the try statement and exceptions, see Handling Exceptions."
   ]
  },
  {
   "cell_type": "code",
   "execution_count": 125,
   "metadata": {},
   "outputs": [
    {
     "name": "stdout",
     "output_type": "stream",
     "text": [
      "Found an even number 2\n",
      "Found an odd number 3\n",
      "Found an even number 4\n",
      "Found an odd number 5\n",
      "Found an even number 6\n",
      "Found an odd number 7\n",
      "Found an even number 8\n",
      "Found an odd number 9\n"
     ]
    }
   ],
   "source": [
    "# The continue statement, also borrowed from C, continues with the next iteration of the loop:\n",
    "for num in range(2, 10):\n",
    "    if num % 2 == 0:\n",
    "        print(\"Found an even number\", num)\n",
    "        continue\n",
    "    print(\"Found an odd number\", num)"
   ]
  },
  {
   "cell_type": "markdown",
   "metadata": {},
   "source": [
    "# pass Statements\n",
    "The pass statement does nothing. It can be used when a statement is required syntactically but the program requires no action. For example:"
   ]
  },
  {
   "cell_type": "code",
   "execution_count": 126,
   "metadata": {},
   "outputs": [
    {
     "ename": "KeyboardInterrupt",
     "evalue": "",
     "output_type": "error",
     "traceback": [
      "\u001b[1;31m---------------------------------------------------------------------------\u001b[0m",
      "\u001b[1;31mKeyboardInterrupt\u001b[0m                         Traceback (most recent call last)",
      "\u001b[1;32mc:\\Users\\tyewf\\Documents\\GitHub\\notes_on_python\\The_Python_Tutorial\\1_Whetting_your_appetite.ipynb Cell 106\u001b[0m line \u001b[0;36m1\n\u001b[1;32m----> <a href='vscode-notebook-cell:/c%3A/Users/tyewf/Documents/GitHub/notes_on_python/The_Python_Tutorial/1_Whetting_your_appetite.ipynb#Y213sZmlsZQ%3D%3D?line=0'>1</a>\u001b[0m \u001b[39mwhile\u001b[39;00m \u001b[39mTrue\u001b[39;00m:\n\u001b[0;32m      <a href='vscode-notebook-cell:/c%3A/Users/tyewf/Documents/GitHub/notes_on_python/The_Python_Tutorial/1_Whetting_your_appetite.ipynb#Y213sZmlsZQ%3D%3D?line=1'>2</a>\u001b[0m     \u001b[39mpass\u001b[39;00m  \u001b[39m# Busy-wait for keyboard interrupt (Ctrl+C)\u001b[39;00m\n",
      "\u001b[1;31mKeyboardInterrupt\u001b[0m: "
     ]
    }
   ],
   "source": [
    "# Warning - this will continue until you stop the code from running (by pressing the stop button in the toolbar)\n",
    "while True:\n",
    "    pass  # Busy-wait for keyboard interrupt (Ctrl+C)"
   ]
  },
  {
   "cell_type": "code",
   "execution_count": 127,
   "metadata": {},
   "outputs": [],
   "source": [
    "# This is commonly used for creating minimal classes:\n",
    "class MyEmptyClass:\n",
    "    pass\n"
   ]
  },
  {
   "cell_type": "code",
   "execution_count": 128,
   "metadata": {},
   "outputs": [],
   "source": [
    "# Another place pass can be used is as a place-holder for a function or conditional body when you are working on new \n",
    "# code, allowing you to keep thinking at a more abstract level. The pass is silently ignored:\n",
    "def initlog(*args):\n",
    "    pass   # Remember to implement this!"
   ]
  },
  {
   "cell_type": "markdown",
   "metadata": {},
   "source": [
    "# match Statements\n",
    "A match statement takes an expression and compares its value to successive patterns given as one or more case blocks. \n",
    "This is superficially similar to a switch statement in C, Java or JavaScript (and many other languages), but it’s more \n",
    "similar to pattern matching in languages like Rust or Haskell. Only the first pattern that matches gets executed and it \n",
    "can also extract components (sequence elements or object attributes) from the value into variables."
   ]
  },
  {
   "cell_type": "code",
   "execution_count": 129,
   "metadata": {},
   "outputs": [],
   "source": [
    "# The simplest form compares a subject value against one or more literals:\n",
    "def http_error(status):\n",
    "    match status:\n",
    "        case 400:\n",
    "            return \"Bad request\"\n",
    "        case 404:\n",
    "            return \"Not found\"\n",
    "        case 418:\n",
    "            return \"I'm a teapot\"\n",
    "        case _:\n",
    "            return \"Something's wrong with the internet\""
   ]
  },
  {
   "cell_type": "code",
   "execution_count": 130,
   "metadata": {},
   "outputs": [
    {
     "data": {
      "text/plain": [
       "'Bad request'"
      ]
     },
     "execution_count": 130,
     "metadata": {},
     "output_type": "execute_result"
    }
   ],
   "source": [
    "http_error(400)"
   ]
  },
  {
   "cell_type": "code",
   "execution_count": 131,
   "metadata": {},
   "outputs": [
    {
     "data": {
      "text/plain": [
       "\"Something's wrong with the internet\""
      ]
     },
     "execution_count": 131,
     "metadata": {},
     "output_type": "execute_result"
    }
   ],
   "source": [
    "http_error(10)"
   ]
  },
  {
   "cell_type": "code",
   "execution_count": 1,
   "metadata": {},
   "outputs": [
    {
     "name": "stdout",
     "output_type": "stream",
     "text": [
      "Question 1: What are modules in Python?\n",
      "1. Reusable code blocks\n",
      "2. Compiled programs\n",
      "3. Built-in functions\n",
      "4. Variables\n",
      "Correct!\n",
      "\n",
      "Question 2: Is Python an interpreted or compiled language?\n",
      "1. Compiled\n",
      "2. Both interpreted and compiled\n",
      "3. Interpreted\n",
      "4. Neither\n",
      "Correct!\n",
      "\n",
      "Question 3: What advantage does an interpreted language have in terms of development/debugging?\n",
      "1. Shorter development cycle\n",
      "2. Faster program execution\n",
      "3. Strong typing\n",
      "4. Static analysis\n",
      "Correct!\n",
      "\n",
      "Quiz complete. You scored 3/3.\n"
     ]
    }
   ],
   "source": [
    "class PythonQuiz:\n",
    "    def __init__(self):\n",
    "        self.questions = []\n",
    "        self.answers = []\n",
    "\n",
    "    def add_question(self, question, options, correct_answer):\n",
    "        self.questions.append(question)\n",
    "        self.answers.append((options, correct_answer))\n",
    "\n",
    "    def run(self):\n",
    "        score = 0\n",
    "        total_questions = len(self.questions)\n",
    "\n",
    "        for i in range(total_questions):\n",
    "            question = self.questions[i]\n",
    "            options, correct_answer = self.answers[i]\n",
    "\n",
    "            print(f\"Question {i + 1}: {question}\")\n",
    "\n",
    "            for j, option in enumerate(options, 1):\n",
    "                print(f\"{j}. {option}\")\n",
    "\n",
    "            user_answer = input(\"Your answer: \")\n",
    "\n",
    "            if user_answer.isdigit() and 1 <= int(user_answer) <= len(options):\n",
    "                user_answer = options[int(user_answer) - 1]\n",
    "            else:\n",
    "                print(\"Invalid choice. Please select a valid option.\")\n",
    "                continue\n",
    "\n",
    "            if user_answer == correct_answer:\n",
    "                print(\"Correct!\\n\")\n",
    "                score += 1\n",
    "            else:\n",
    "                print(f\"Sorry, the correct answer is: {correct_answer}\\n\")\n",
    "\n",
    "        print(f\"Quiz complete. You scored {score}/{total_questions}.\")\n",
    "\n",
    "if __name__ == \"__main__\":\n",
    "    quiz = PythonQuiz()\n",
    "\n",
    "    # Add your questions, answer choices, and correct answers here\n",
    "    quiz.add_question(\"What are modules in Python?\", [\"Reusable code blocks\", \"Compiled programs\", \"Built-in functions\", \"Variables\"], \"Reusable code blocks\")\n",
    "    quiz.add_question(\"Is Python an interpreted or compiled language?\", [\"Compiled\", \"Both interpreted and compiled\", \"Interpreted\", \"Neither\"], \"Interpreted\")\n",
    "    quiz.add_question(\"What advantage does an interpreted language have in terms of development/debugging?\", [\"Shorter development cycle\", \"Faster program execution\", \"Strong typing\", \"Static analysis\"], \"Shorter development cycle\")\n",
    "\n",
    "    # Run the quiz\n",
    "    quiz.run()\n"
   ]
  }
 ],
 "metadata": {
  "kernelspec": {
   "display_name": "Python 3",
   "language": "python",
   "name": "python3"
  },
  "language_info": {
   "codemirror_mode": {
    "name": "ipython",
    "version": 3
   },
   "file_extension": ".py",
   "mimetype": "text/x-python",
   "name": "python",
   "nbconvert_exporter": "python",
   "pygments_lexer": "ipython3",
   "version": "3.10.11"
  }
 },
 "nbformat": 4,
 "nbformat_minor": 2
}
