{
 "cells": [
  {
   "cell_type": "markdown",
   "metadata": {},
   "source": [
    "# Objects\n",
    "In Pyton, everything is an object. An object is called an instance of a class.\n",
    "\n",
    "Objects are variables that can contain data and/or functions\n",
    "\n",
    ". The object's data can vary in type (string, integer, etc.) depending on how it’s been defined. An object is like a mini-program inside python, with its own set of rules and behaviors.\n",
    "\n",
    "There are many types of object for example: <to list>\n",
    "\n",
    "An as example, we can create the variable \"variable1\" to a value of 1. The object variable1 will now be an instance of the 'int' class containing a value of 1:"
   ]
  },
  {
   "cell_type": "code",
   "execution_count": 10,
   "metadata": {},
   "outputs": [
    {
     "name": "stdout",
     "output_type": "stream",
     "text": [
      "<class 'int'>\n"
     ]
    }
   ],
   "source": [
    "# Assign a value to a variable\n",
    "variable1 = 1\n",
    "\n",
    "# Print the value of a variable\n",
    "print(type(variable1))"
   ]
  },
  {
   "cell_type": "code",
   "execution_count": 16,
   "metadata": {},
   "outputs": [
    {
     "name": "stdout",
     "output_type": "stream",
     "text": [
      "<class 'float'>\n",
      "<class 'float'>\n",
      "<class 'str'>\n",
      "<class 'list'>\n",
      "<class 'list'>\n",
      "<class 'dict'>\n"
     ]
    }
   ],
   "source": [
    "# we can also assign a value to a variable using another variable\n",
    "variable1 = 2.5\n",
    "print(type(variable1))\n",
    "\n",
    "# we can use different names\n",
    "variable2 = 2.5\n",
    "print(type(variable2))\n",
    "\n",
    "# we can assign the variable to any class\n",
    "variable2 = 'a'\n",
    "print(type(variable2))\n",
    "\n",
    "variable3 = ['A', 3]\n",
    "print(type(variable3))\n",
    "\n",
    "variable3 = list()\n",
    "print(type(variable3))\n",
    "\n",
    "dictionary = {'key': 'Value'}\n",
    "print(type(dictionary))\n",
    "\n"
   ]
  },
  {
   "cell_type": "code",
   "execution_count": 1,
   "metadata": {},
   "outputs": [
    {
     "data": {
      "text/plain": [
       "[]"
      ]
     },
     "execution_count": 1,
     "metadata": {},
     "output_type": "execute_result"
    }
   ],
   "source": [
    "# lists\n",
    "empty_list = []\n",
    "empty_list"
   ]
  },
  {
   "cell_type": "code",
   "execution_count": 2,
   "metadata": {},
   "outputs": [
    {
     "data": {
      "text/plain": [
       "[]"
      ]
     },
     "execution_count": 2,
     "metadata": {},
     "output_type": "execute_result"
    }
   ],
   "source": [
    "another_empty_list = list()\n",
    "another_empty_list"
   ]
  },
  {
   "cell_type": "code",
   "execution_count": 4,
   "metadata": {},
   "outputs": [
    {
     "data": {
      "text/plain": [
       "[3, 3]"
      ]
     },
     "execution_count": 4,
     "metadata": {},
     "output_type": "execute_result"
    }
   ],
   "source": [
    "# use the append method to add values to the list\n",
    "empty_list.append(3)\n",
    "empty_list"
   ]
  },
  {
   "cell_type": "code",
   "execution_count": 5,
   "metadata": {},
   "outputs": [
    {
     "data": {
      "text/plain": [
       "[3, 3, 'A']"
      ]
     },
     "execution_count": 5,
     "metadata": {},
     "output_type": "execute_result"
    }
   ],
   "source": [
    "empty_list.append('A')\n",
    "empty_list"
   ]
  },
  {
   "cell_type": "code",
   "execution_count": 7,
   "metadata": {},
   "outputs": [
    {
     "name": "stdout",
     "output_type": "stream",
     "text": [
      "0\n",
      "2\n"
     ]
    }
   ],
   "source": [
    "# index method on a lsit\n",
    "print(empty_list.index(3))\n",
    "print(empty_list.index('A'))"
   ]
  },
  {
   "cell_type": "markdown",
   "metadata": {},
   "source": [
    "# Class\n",
    "## Pre-defiend classes\n",
    "There are many pre-defined classes that are avaiable to use within Python\n",
    "\n",
    "<to write about the eixsiting classes and what they can do>"
   ]
  },
  {
   "cell_type": "markdown",
   "metadata": {},
   "source": [
    "## Self-defined classes\n",
    "You can also create you own self-defiend classes and make the mavaiable for use.\n",
    "\n",
    "### How to create a class\n",
    "The standard practice is to give classes names that start with a capital letter"
   ]
  },
  {
   "cell_type": "code",
   "execution_count": 20,
   "metadata": {},
   "outputs": [],
   "source": [
    "class MyOwnClass:\n",
    "    pass"
   ]
  },
  {
   "cell_type": "code",
   "execution_count": 21,
   "metadata": {},
   "outputs": [
    {
     "name": "stdout",
     "output_type": "stream",
     "text": [
      "<class '__main__.MyOwnClass'>\n"
     ]
    }
   ],
   "source": [
    "# Assign the object x to an instance of your 'MyOwnClass' class\n",
    "x = MyOwnClass()\n",
    "print(type(x))"
   ]
  },
  {
   "cell_type": "code",
   "execution_count": 22,
   "metadata": {},
   "outputs": [
    {
     "name": "stdout",
     "output_type": "stream",
     "text": [
      "<class '__main__.MyOwnClass'>\n"
     ]
    }
   ],
   "source": [
    "# Assign the object y to an instance of your 'MyOwnClass' class\n",
    "y = MyOwnClass()\n",
    "print(type(y))"
   ]
  },
  {
   "cell_type": "markdown",
   "metadata": {},
   "source": [
    "### Add class attributes and methods\n",
    "For each class you make, you can define the attributes and methods that can be used by that class.\n",
    "\n",
    "An attribute is a characteristic of an object.\n",
    "\n",
    "A method is an operation that can be performed with the object."
   ]
  },
  {
   "cell_type": "markdown",
   "metadata": {},
   "source": [
    "#### Attributes\n",
    "The syntax for creating an attribute for a class is:\n",
    "\n",
    "```Python\n",
    "class ClassName:\n",
    "    def __init__(self, attribute1, attribute2):\n",
    "        self.attribute1 = attribute1\n",
    "        self.attribute2_attr = attribute2\n",
    "```\n",
    "\n",
    "\n",
    "Notes:\n",
    "* The attribute is aded when creating the class, hence you need to be creating a class like `class ClassName:`\n",
    "* Within the class you are defining attributes for that class, hence you need to use the `def`.\n",
    "    * Within the def you also sue a special method called `__init__()`, no need to understand this at the moment.\n",
    "    * Within the `__init__()` you will also refer to the class by using `self` and then you will provide the names of the attributes you want to define. Here we use attribute1, and attribute2.\n",
    "    * You can also have default values for the attributes, e.g. `attribute2='value'`. If you dont use a default value you will always need to define the value when using the class.\n",
    "* Within the definition you need to allocate the attributes using ```self.attribute_name = attribute_name```\n",
    "    * ```self.``` is always used at the start, and is used to allocate the attribute (this can be the same as the attribute name above or different - ofteen the same to make it readable, but you can add _attr as well)\n",
    "    * the ```attribute_name``` is then assigned to that attribute.\n",
    "\n",
    "As an example:"
   ]
  },
  {
   "cell_type": "code",
   "execution_count": 35,
   "metadata": {},
   "outputs": [],
   "source": [
    "class MyCarClass:\n",
    "    def __init__(self, make, model):\n",
    "        self.make = make\n",
    "        self.model = model"
   ]
  },
  {
   "cell_type": "code",
   "execution_count": 29,
   "metadata": {},
   "outputs": [
    {
     "name": "stdout",
     "output_type": "stream",
     "text": [
      "<class '__main__.MyCarClass'>\n",
      "BMW\n",
      "M3\n"
     ]
    }
   ],
   "source": [
    "# You can now use the class MyCarClass and assign it to an object and define the make and model\n",
    "car_object1 = MyCarClass(make = 'BMW', model='M3')\n",
    "print(type(car_object1))\n",
    "print(car_object1.make)\n",
    "print(car_object1.model)\n",
    "\n"
   ]
  },
  {
   "cell_type": "code",
   "execution_count": 30,
   "metadata": {},
   "outputs": [
    {
     "name": "stdout",
     "output_type": "stream",
     "text": [
      "<class '__main__.MyCarClass'>\n",
      "Audi\n",
      "A4\n"
     ]
    }
   ],
   "source": [
    "# Note, you dont need to write \"make =\" and \"model =\" when you assign the values to the object (but is it best practice to do so)\n",
    "car_object2 = MyCarClass('Audi', 'A4')\n",
    "print(type(car_object2))\n",
    "print(car_object2.make)\n",
    "print(car_object2.model)"
   ]
  },
  {
   "cell_type": "code",
   "execution_count": 32,
   "metadata": {},
   "outputs": [
    {
     "ename": "TypeError",
     "evalue": "MyCarClass.__init__() missing 1 required positional argument: 'model'",
     "output_type": "error",
     "traceback": [
      "\u001b[1;31m---------------------------------------------------------------------------\u001b[0m",
      "\u001b[1;31mTypeError\u001b[0m                                 Traceback (most recent call last)",
      "\u001b[1;32mc:\\Users\\tyewf\\Documents\\GitHub\\notes_on_python\\01_Basics.ipynb Cell 19\u001b[0m line \u001b[0;36m2\n\u001b[0;32m      <a href='vscode-notebook-cell:/c%3A/Users/tyewf/Documents/GitHub/notes_on_python/01_Basics.ipynb#X33sZmlsZQ%3D%3D?line=0'>1</a>\u001b[0m \u001b[39m# If you dont define oen of the attirbutes you will cause an error:\u001b[39;00m\n\u001b[1;32m----> <a href='vscode-notebook-cell:/c%3A/Users/tyewf/Documents/GitHub/notes_on_python/01_Basics.ipynb#X33sZmlsZQ%3D%3D?line=1'>2</a>\u001b[0m car_object2 \u001b[39m=\u001b[39m MyCarClass(make \u001b[39m=\u001b[39;49m \u001b[39m'\u001b[39;49m\u001b[39mAudi\u001b[39;49m\u001b[39m'\u001b[39;49m)\n\u001b[0;32m      <a href='vscode-notebook-cell:/c%3A/Users/tyewf/Documents/GitHub/notes_on_python/01_Basics.ipynb#X33sZmlsZQ%3D%3D?line=2'>3</a>\u001b[0m \u001b[39mprint\u001b[39m(\u001b[39mtype\u001b[39m(car_object2))\n\u001b[0;32m      <a href='vscode-notebook-cell:/c%3A/Users/tyewf/Documents/GitHub/notes_on_python/01_Basics.ipynb#X33sZmlsZQ%3D%3D?line=3'>4</a>\u001b[0m \u001b[39mprint\u001b[39m(car_object2\u001b[39m.\u001b[39mmake)\n",
      "\u001b[1;31mTypeError\u001b[0m: MyCarClass.__init__() missing 1 required positional argument: 'model'"
     ]
    }
   ],
   "source": [
    "# If you dont define oen of the attirbutes you will cause an error:\n",
    "car_object2 = MyCarClass(make = 'Audi')\n",
    "print(type(car_object2))\n",
    "print(car_object2.make)\n",
    "print(car_object2.model)"
   ]
  },
  {
   "cell_type": "code",
   "execution_count": 40,
   "metadata": {},
   "outputs": [],
   "source": [
    "# If you have a default value, then you dont need to define those attributes:\n",
    "class MyCarClass_v2:\n",
    "    def __init__(self, make, model='mymodel'):\n",
    "        self.make_atr = make\n",
    "        self.model_atr = model\n"
   ]
  },
  {
   "cell_type": "code",
   "execution_count": 42,
   "metadata": {},
   "outputs": [
    {
     "name": "stdout",
     "output_type": "stream",
     "text": [
      "<class '__main__.MyCarClass_v2'>\n",
      "Audi\n",
      "mymodel\n"
     ]
    }
   ],
   "source": [
    "cars = MyCarClass_v2(make='Audi')\n",
    "print(type(cars))\n",
    "print(cars.make_atr)\n",
    "print(cars.model_atr)"
   ]
  },
  {
   "cell_type": "code",
   "execution_count": 43,
   "metadata": {},
   "outputs": [
    {
     "ename": "AttributeError",
     "evalue": "'MyCarClass_v2' object has no attribute 'make'",
     "output_type": "error",
     "traceback": [
      "\u001b[1;31m---------------------------------------------------------------------------\u001b[0m",
      "\u001b[1;31mAttributeError\u001b[0m                            Traceback (most recent call last)",
      "\u001b[1;32mc:\\Users\\tyewf\\Documents\\GitHub\\notes_on_python\\01_Basics.ipynb Cell 22\u001b[0m line \u001b[0;36m2\n\u001b[0;32m      <a href='vscode-notebook-cell:/c%3A/Users/tyewf/Documents/GitHub/notes_on_python/01_Basics.ipynb#X40sZmlsZQ%3D%3D?line=0'>1</a>\u001b[0m \u001b[39m# Note the use of the attribute value\u001b[39;00m\n\u001b[1;32m----> <a href='vscode-notebook-cell:/c%3A/Users/tyewf/Documents/GitHub/notes_on_python/01_Basics.ipynb#X40sZmlsZQ%3D%3D?line=1'>2</a>\u001b[0m \u001b[39mprint\u001b[39m(cars\u001b[39m.\u001b[39;49mmake) \u001b[39m# wont work\u001b[39;00m\n",
      "\u001b[1;31mAttributeError\u001b[0m: 'MyCarClass_v2' object has no attribute 'make'"
     ]
    }
   ],
   "source": [
    "# Note the use of the attribute value\n",
    "print(cars.make) # wont work"
   ]
  },
  {
   "cell_type": "code",
   "execution_count": 44,
   "metadata": {},
   "outputs": [
    {
     "name": "stdout",
     "output_type": "stream",
     "text": [
      "Audi\n"
     ]
    }
   ],
   "source": [
    "print(cars.make_atr) # will work"
   ]
  },
  {
   "cell_type": "code",
   "execution_count": 39,
   "metadata": {},
   "outputs": [
    {
     "ename": "TypeError",
     "evalue": "MyCarClass_v2.__init__() missing 1 required positional argument: 'make'",
     "output_type": "error",
     "traceback": [
      "\u001b[1;31m---------------------------------------------------------------------------\u001b[0m",
      "\u001b[1;31mTypeError\u001b[0m                                 Traceback (most recent call last)",
      "\u001b[1;32mc:\\Users\\tyewf\\Documents\\GitHub\\notes_on_python\\01_Basics.ipynb Cell 22\u001b[0m line \u001b[0;36m2\n\u001b[0;32m      <a href='vscode-notebook-cell:/c%3A/Users/tyewf/Documents/GitHub/notes_on_python/01_Basics.ipynb#X36sZmlsZQ%3D%3D?line=0'>1</a>\u001b[0m \u001b[39m# You have to define all attributes that dont have a default value\u001b[39;00m\n\u001b[1;32m----> <a href='vscode-notebook-cell:/c%3A/Users/tyewf/Documents/GitHub/notes_on_python/01_Basics.ipynb#X36sZmlsZQ%3D%3D?line=1'>2</a>\u001b[0m cars2 \u001b[39m=\u001b[39m MyCarClass_v2(model\u001b[39m=\u001b[39;49m\u001b[39m'\u001b[39;49m\u001b[39mAudi\u001b[39;49m\u001b[39m'\u001b[39;49m)\n",
      "\u001b[1;31mTypeError\u001b[0m: MyCarClass_v2.__init__() missing 1 required positional argument: 'make'"
     ]
    }
   ],
   "source": [
    "# You have to define all attributes that dont have a default value\n",
    "cars2 = MyCarClass_v2(model='Audi')"
   ]
  },
  {
   "cell_type": "markdown",
   "metadata": {},
   "source": [
    "Thus the object is the variable cars, which is of class MyCarClass_v2.\n",
    "\n",
    "The MyCarClass_v2 class has attributes make_atr and model_atr, which are assigned the values of make and model."
   ]
  },
  {
   "cell_type": "code",
   "execution_count": 46,
   "metadata": {},
   "outputs": [],
   "source": [
    "# Also note that you can have more attributes than you define in the init method\n",
    "class MyCarClass_v3:\n",
    "    def __init__(self, make, model='mymodel'):\n",
    "        self.make_atr = make\n",
    "        self.model_atr = model\n",
    "        self.other_attribute = 'other'\n",
    "        self.make_and_modle = self.make_atr + self.model_atr"
   ]
  },
  {
   "cell_type": "code",
   "execution_count": 47,
   "metadata": {},
   "outputs": [
    {
     "name": "stdout",
     "output_type": "stream",
     "text": [
      "<class '__main__.MyCarClass_v3'>\n",
      "Audi\n",
      "mymodel\n",
      "other\n",
      "Audimymodel\n"
     ]
    }
   ],
   "source": [
    "my_car = MyCarClass_v3(make='Audi')\n",
    "print(type(my_car))\n",
    "print(my_car.make_atr)\n",
    "print(my_car.model_atr)\n",
    "print(my_car.other_attribute)\n",
    "print(my_car.make_and_modle)\n"
   ]
  },
  {
   "cell_type": "markdown",
   "metadata": {},
   "source": [
    "### Methods\n",
    "In Python, a method is a function that is associated with an object or a class. It's a block of code that performs a specific task or operation when called upon an instance of a class. Methods are used to encapsulate and organize behavior related to the class, making it easier to work with and manipulate the data associated with that class. They are defined within a class and can access and modify the class's attributes and perform various actions or computations based on those attributes. Methods can be called on objects of the class to manipulate data, perform operations, or return results, making them a fundamental part of object-oriented programming in Python."
   ]
  },
  {
   "cell_type": "code",
   "execution_count": 48,
   "metadata": {},
   "outputs": [],
   "source": [
    "# You can also define methods in your class\n",
    "class MyCarClass_v4:\n",
    "    def __init__(self, make, model='mymodel'):\n",
    "        self.make_atr = make\n",
    "        self.model_atr = model\n",
    "        self.other_attribute = 'other'\n",
    "        self.make_and_modle = self.make_atr + self.model_atr\n",
    "\n",
    "    def print_make_and_model(self):\n",
    "        print(self.make_atr + self.model_atr)\n"
   ]
  },
  {
   "cell_type": "code",
   "execution_count": 49,
   "metadata": {},
   "outputs": [
    {
     "name": "stdout",
     "output_type": "stream",
     "text": [
      "Audimymodel\n"
     ]
    }
   ],
   "source": [
    "car = MyCarClass_v4(make='Audi')\n",
    "car.print_make_and_model()\n"
   ]
  },
  {
   "cell_type": "code",
   "execution_count": 51,
   "metadata": {},
   "outputs": [],
   "source": [
    "# Another example using a square class\n",
    "class Square:\n",
    "    def __init__(self, side_length):\n",
    "        self.side_length = side_length\n",
    "\n",
    "    def calculate_area(self):\n",
    "        return self.side_length * self.side_length\n",
    "\n",
    "    def calculate_perimeter(self):\n",
    "        return self.side_length * 4"
   ]
  },
  {
   "cell_type": "code",
   "execution_count": 52,
   "metadata": {},
   "outputs": [
    {
     "name": "stdout",
     "output_type": "stream",
     "text": [
      "16\n",
      "16\n"
     ]
    }
   ],
   "source": [
    "my_square = Square(side_length=4)\n",
    "print(my_square.calculate_area())\n",
    "print(my_square.calculate_perimeter())\n"
   ]
  },
  {
   "cell_type": "markdown",
   "metadata": {},
   "source": [
    "# Error handling\n",
    "\n",
    "## try and except\n",
    "``` Python\n",
    "try:\n",
    "    code to run here\n",
    "except:\n",
    "    If there is an issue, execute this code\n",
    "else:\n",
    "    If no issues, execute this code\n",
    "```"
   ]
  },
  {
   "cell_type": "code",
   "execution_count": 53,
   "metadata": {},
   "outputs": [
    {
     "name": "stdout",
     "output_type": "stream",
     "text": [
      "Hello World\n",
      "No exception\n"
     ]
    }
   ],
   "source": [
    "try:\n",
    "    print(\"Hello World\")\n",
    "except:\n",
    "    print(\"There is an exception\")\n",
    "else:\n",
    "    print(\"No exception\")"
   ]
  },
  {
   "cell_type": "code",
   "execution_count": 59,
   "metadata": {},
   "outputs": [
    {
     "ename": "SyntaxError",
     "evalue": "invalid syntax. Perhaps you forgot a comma? (3556566721.py, line 2)",
     "output_type": "error",
     "traceback": [
      "\u001b[1;36m  Cell \u001b[1;32mIn[59], line 2\u001b[1;36m\u001b[0m\n\u001b[1;33m    print(Hello World)\u001b[0m\n\u001b[1;37m          ^\u001b[0m\n\u001b[1;31mSyntaxError\u001b[0m\u001b[1;31m:\u001b[0m invalid syntax. Perhaps you forgot a comma?\n"
     ]
    }
   ],
   "source": [
    "try:\n",
    "    print(Hello World)\n",
    "except:\n",
    "    print(\"There is an exception\")\n",
    "else:\n",
    "    print(\"No exception\")"
   ]
  },
  {
   "cell_type": "code",
   "execution_count": 60,
   "metadata": {},
   "outputs": [
    {
     "name": "stdout",
     "output_type": "stream",
     "text": [
      "There is an exception\n"
     ]
    }
   ],
   "source": [
    "try:\n",
    "    print(HelloWorld)\n",
    "except:\n",
    "    print(\"There is an exception\")\n",
    "else:\n",
    "    print(\"No exception\")"
   ]
  },
  {
   "cell_type": "markdown",
   "metadata": {},
   "source": [
    "## Finally\n",
    "The finally block of code is always run regardless if there is an exception to the try block of code. The Syntax is:\n",
    "```Python\n",
    "try:\n",
    "    code here\n",
    "finally:\n",
    "    This code isalways executed\n",
    "```"
   ]
  },
  {
   "cell_type": "code",
   "execution_count": 61,
   "metadata": {},
   "outputs": [
    {
     "name": "stdout",
     "output_type": "stream",
     "text": [
      "Hello World\n",
      "Finally\n"
     ]
    }
   ],
   "source": [
    "try:\n",
    "    print(\"Hello World\")\n",
    "finally:\n",
    "    print(\"Finally\")\n"
   ]
  },
  {
   "cell_type": "code",
   "execution_count": 64,
   "metadata": {},
   "outputs": [
    {
     "name": "stdout",
     "output_type": "stream",
     "text": [
      "Finally\n"
     ]
    },
    {
     "ename": "NameError",
     "evalue": "name 'Hello' is not defined",
     "output_type": "error",
     "traceback": [
      "\u001b[1;31m---------------------------------------------------------------------------\u001b[0m",
      "\u001b[1;31mNameError\u001b[0m                                 Traceback (most recent call last)",
      "\u001b[1;32mc:\\Users\\tyewf\\Documents\\GitHub\\notes_on_python\\01_Basics.ipynb Cell 39\u001b[0m line \u001b[0;36m2\n\u001b[0;32m      <a href='vscode-notebook-cell:/c%3A/Users/tyewf/Documents/GitHub/notes_on_python/01_Basics.ipynb#X65sZmlsZQ%3D%3D?line=0'>1</a>\u001b[0m \u001b[39mtry\u001b[39;00m:\n\u001b[1;32m----> <a href='vscode-notebook-cell:/c%3A/Users/tyewf/Documents/GitHub/notes_on_python/01_Basics.ipynb#X65sZmlsZQ%3D%3D?line=1'>2</a>\u001b[0m     \u001b[39mprint\u001b[39m(Hello)\n\u001b[0;32m      <a href='vscode-notebook-cell:/c%3A/Users/tyewf/Documents/GitHub/notes_on_python/01_Basics.ipynb#X65sZmlsZQ%3D%3D?line=2'>3</a>\u001b[0m \u001b[39mfinally\u001b[39;00m:\n\u001b[0;32m      <a href='vscode-notebook-cell:/c%3A/Users/tyewf/Documents/GitHub/notes_on_python/01_Basics.ipynb#X65sZmlsZQ%3D%3D?line=3'>4</a>\u001b[0m     \u001b[39mprint\u001b[39m(\u001b[39m\"\u001b[39m\u001b[39mFinally\u001b[39m\u001b[39m\"\u001b[39m)\n",
      "\u001b[1;31mNameError\u001b[0m: name 'Hello' is not defined"
     ]
    }
   ],
   "source": [
    "try:\n",
    "    print(Hello)\n",
    "finally:\n",
    "    print(\"Finally\")\n",
    "\n",
    "# note: this will still display the NameError"
   ]
  },
  {
   "cell_type": "code",
   "execution_count": 65,
   "metadata": {},
   "outputs": [
    {
     "name": "stdout",
     "output_type": "stream",
     "text": [
      "There is an exception\n",
      "Finally\n"
     ]
    }
   ],
   "source": [
    "# You can also combine the try and except and finally together:\n",
    "try:\n",
    "    print(Hello)\n",
    "except:\n",
    "    print(\"There is an exception\")\n",
    "else:\n",
    "    print(\"No exception\")\n",
    "finally:\n",
    "    print(\"Finally\")\n",
    "\n",
    "# Note this will not display the NameError\n"
   ]
  }
 ],
 "metadata": {
  "kernelspec": {
   "display_name": "Python 3",
   "language": "python",
   "name": "python3"
  },
  "language_info": {
   "codemirror_mode": {
    "name": "ipython",
    "version": 3
   },
   "file_extension": ".py",
   "mimetype": "text/x-python",
   "name": "python",
   "nbconvert_exporter": "python",
   "pygments_lexer": "ipython3",
   "version": "3.10.11"
  }
 },
 "nbformat": 4,
 "nbformat_minor": 2
}
